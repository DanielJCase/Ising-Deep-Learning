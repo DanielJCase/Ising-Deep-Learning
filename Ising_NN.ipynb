{
 "cells": [
  {
   "cell_type": "markdown",
   "metadata": {},
   "source": [
    "# Ising Model Neural Nets\n",
    "Here, I develop two neural nets which are trained to classify simulation results of the Ising model into \"low\" and \"high\" temperature phases. In addition to correctly classifying the configurations, I show that the output of the neural nets can be used to determine the critical phase transition temperature. \n",
    "\n",
    "The nets are first trained and validated on data from a square lattice Ising model. Then, the model is tested on a dataset of simulations of the Ising model on a triangular lattice. During training, the nets are only provided the simulation configurations and the label \"low\" or \"high\"; the temperature value used for each configuration is not used provided to the nets.\n",
    "\n",
    "I first train a neural net with a single hidden layer. Then, I train a deep convolutional net."
   ]
  },
  {
   "cell_type": "markdown",
   "metadata": {},
   "source": [
    "The results presented here are primarily a reproduction of the the findings in a recent Nature Physics publication:\n",
    "[Link to paper][example].\n",
    "\n",
    "  [example]: https://www.nature.com/articles/nphys4035"
   ]
  },
  {
   "cell_type": "code",
   "execution_count": 1,
   "metadata": {},
   "outputs": [],
   "source": [
    "%matplotlib inline\n",
    "import numpy as np\n",
    "import os\n",
    "from random import shuffle\n",
    "from tqdm import tqdm\n",
    "import tensorflow as tf\n",
    "import matplotlib.pyplot as plt\n",
    "import pandas as pd\n",
    "from tensorflow import keras"
   ]
  },
  {
   "cell_type": "markdown",
   "metadata": {},
   "source": [
    "# Load Data"
   ]
  },
  {
   "cell_type": "markdown",
   "metadata": {},
   "source": [
    "Set the paths of training, validation, and test sets."
   ]
  },
  {
   "cell_type": "code",
   "execution_count": 2,
   "metadata": {},
   "outputs": [],
   "source": [
    "train_path = '../../data/Ising/train/'\n",
    "test_path = '../../data/Ising/test/'\n",
    "valid_path = '../../data/Ising/valid/'"
   ]
  },
  {
   "cell_type": "markdown",
   "metadata": {},
   "source": [
    "Set up some helper functions to load and label the data.\n",
    "\n",
    "The file name for each simulation is in the form ```phase_Temp_index_.npy``` where ```phase``` is either \"high\" or \"low\" and is the label we are training with. We also keep track of the temperature of each simulations, which will allow us to determine the critical phase transition temperature. ```index``` simply provides a unique file name to each configuration."
   ]
  },
  {
   "cell_type": "code",
   "execution_count": 85,
   "metadata": {},
   "outputs": [],
   "source": [
    "def one_hot_label(img):\n",
    "    # img is the file name of a configuration\n",
    "    label,T,_,_ = img.split('_')\n",
    "    if label == 'low':\n",
    "        ohl = np.array([1,0])\n",
    "    elif label == 'high':\n",
    "        ohl = np.array([0,1])\n",
    "    return ohl,T\n",
    "def data_with_label(data_path,*args):\n",
    "    data = []\n",
    "    if args: # The args are a list if directories in the data path that separate the classes/categories\n",
    "        for category in args:\n",
    "            for i in tqdm(os.listdir(data_path + category)):\n",
    "                path = os.path.join(data_path, category,i)\n",
    "                img = np.load(path)\n",
    "                data.append([img, one_hot_label(i)])\n",
    "        shuffle(data)\n",
    "        return data"
   ]
  },
  {
   "cell_type": "markdown",
   "metadata": {},
   "source": [
    "Load in the train and validation sets.\n",
    "\n",
    "Each element of the sets consists of a tuple of the form: (numpy array, one hot label, temperature)"
   ]
  },
  {
   "cell_type": "code",
   "execution_count": 14,
   "metadata": {
    "scrolled": true
   },
   "outputs": [
    {
     "name": "stderr",
     "output_type": "stream",
     "text": [
      "100%|██████████| 1400/1400 [00:00<00:00, 3446.29it/s]\n",
      "100%|██████████| 1600/1600 [00:00<00:00, 3938.56it/s]\n"
     ]
    }
   ],
   "source": [
    "train_set=data_with_label(train_path,'low','high')\n",
    "valid_set=data_with_label(valid_path,'low','high')"
   ]
  },
  {
   "cell_type": "markdown",
   "metadata": {},
   "source": [
    "Separate the loaded data into arrays containing the image data, label data, and temperature data."
   ]
  },
  {
   "cell_type": "code",
   "execution_count": 57,
   "metadata": {},
   "outputs": [],
   "source": [
    "tr_img_data = np.array([i[0] for i in train_set])\n",
    "tr_lbl_data = np.array([i[1][0] for i in train_set])\n",
    "tr_Temp_data = np.array([i[1][1] for i in train_set])\n",
    "val_img_data = np.array([i[0] for i in valid_set])\n",
    "val_lbl_data = np.array([i[1][0] for i in valid_set])\n",
    "val_Temp_data = np.array([float(i[1][1]) for i in valid_set])"
   ]
  },
  {
   "cell_type": "markdown",
   "metadata": {},
   "source": [
    "Take a look at a few samples.\n",
    "\n",
    "The low temperature configurations tend to be predominately aligned in either the \"up\" (yellow) or \"down\" (purple) directions. This is expected since aligned spins is a lower energy state. For the high temperature configurations, clusters of aligned spins form.  "
   ]
  },
  {
   "cell_type": "code",
   "execution_count": 16,
   "metadata": {},
   "outputs": [
    {
     "data": {
      "image/png": "[encoded data removed]",
      "text/plain": [
       "<Figure size 720x720 with 16 Axes>"
      ]
     },
     "metadata": {},
     "output_type": "display_data"
    }
   ],
   "source": [
    "plt.figure(figsize=(10,10))\n",
    "for i in range(16):\n",
    "    #idx=bad_predictions[i]\n",
    "    plt.subplot(4,4,i+1)\n",
    "    plt.xticks([])\n",
    "    plt.yticks([])\n",
    "    plt.grid(False)\n",
    "    plt.imshow(tr_img_data[i])\n",
    "    if tr_lbl_data[i][0] == 1:\n",
    "        label = \"Low\"\n",
    "    elif tr_lbl_data[i][1] == 1:\n",
    "        label = \"High\"\n",
    "    plt.xlabel(f'{label}, {tr_Temp_data[i]}')"
   ]
  },
  {
   "cell_type": "markdown",
   "metadata": {},
   "source": [
    "## Single hidden layer NN\n",
    "First, I create a simple neural net with a single 100-unit hidden layer with ReLU activation. The output layer contains two units with a softmax activation."
   ]
  },
  {
   "cell_type": "markdown",
   "metadata": {},
   "source": [
    "Define the model with the tf.Keras sequential API."
   ]
  },
  {
   "cell_type": "code",
   "execution_count": 81,
   "metadata": {},
   "outputs": [],
   "source": [
    "model1 = keras.Sequential([\n",
    "    keras.layers.Flatten(input_shape=(20, 20)),\n",
    "    keras.layers.Dense(100, activation=tf.nn.relu),\n",
    "    #keras.layers.Dropout(0.3),\n",
    "    keras.layers.Dense(2, activation=tf.nn.softmax)\n",
    "])"
   ]
  },
  {
   "cell_type": "markdown",
   "metadata": {},
   "source": [
    "Set the model optimizer, learning rate, and loss function."
   ]
  },
  {
   "cell_type": "code",
   "execution_count": 82,
   "metadata": {},
   "outputs": [],
   "source": [
    "model1.compile(optimizer=tf.train.AdamOptimizer(learning_rate=0.001), loss='binary_crossentropy', metrics=['accuracy'])"
   ]
  },
  {
   "cell_type": "markdown",
   "metadata": {},
   "source": [
    "Train the model!"
   ]
  },
  {
   "cell_type": "code",
   "execution_count": 83,
   "metadata": {
    "scrolled": true
   },
   "outputs": [
    {
     "name": "stdout",
     "output_type": "stream",
     "text": [
      "Epoch 1/10\n",
      "15000/15000 [==============================] - 1s 83us/step - loss: 0.1941 - acc: 0.9241\n",
      "Epoch 2/10\n",
      "15000/15000 [==============================] - 1s 57us/step - loss: 0.1409 - acc: 0.9465\n",
      "Epoch 3/10\n",
      "15000/15000 [==============================] - 1s 51us/step - loss: 0.1245 - acc: 0.9518\n",
      "Epoch 4/10\n",
      "15000/15000 [==============================] - 1s 53us/step - loss: 0.1073 - acc: 0.9582\n",
      "Epoch 5/10\n",
      "15000/15000 [==============================] - 1s 53us/step - loss: 0.0978 - acc: 0.9617\n",
      "Epoch 6/10\n",
      "15000/15000 [==============================] - 1s 54us/step - loss: 0.0861 - acc: 0.9679\n",
      "Epoch 7/10\n",
      "15000/15000 [==============================] - 1s 52us/step - loss: 0.0730 - acc: 0.9711\n",
      "Epoch 8/10\n",
      "15000/15000 [==============================] - 1s 55us/step - loss: 0.0663 - acc: 0.9748\n",
      "Epoch 9/10\n",
      "15000/15000 [==============================] - 1s 52us/step - loss: 0.0571 - acc: 0.9793\n",
      "Epoch 10/10\n",
      "15000/15000 [==============================] - 1s 51us/step - loss: 0.0485 - acc: 0.9833\n"
     ]
    },
    {
     "data": {
      "text/plain": [
       "<tensorflow.python.keras.callbacks.History at 0x7f7478125da0>"
      ]
     },
     "execution_count": 83,
     "metadata": {},
     "output_type": "execute_result"
    }
   ],
   "source": [
    "model1.fit(x=tr_img_data,y=tr_lbl_data, epochs=10,batch_size=64)"
   ]
  },
  {
   "cell_type": "markdown",
   "metadata": {},
   "source": [
    "Evaluate the model performance on the validation set."
   ]
  },
  {
   "cell_type": "code",
   "execution_count": 84,
   "metadata": {},
   "outputs": [
    {
     "name": "stdout",
     "output_type": "stream",
     "text": [
      "3000/3000 [==============================] - 0s 132us/step\n",
      "Validation accuracy: 0.9343333334922791\n",
      "Validation loss: 0.21049466670428713\n"
     ]
    }
   ],
   "source": [
    "val_loss, val_acc = model1.evaluate(val_img_data, val_lbl_data,)\n",
    "print('Validation accuracy:', val_acc)\n",
    "print('Validation loss:', val_loss)"
   ]
  },
  {
   "cell_type": "markdown",
   "metadata": {},
   "source": [
    "## Determine the critical temperature\n",
    "Now that the model is trained, I can use the prediction output on the validation set to determine the critical temperature. \n",
    "\n",
    "First get the model predictions for the validation set, and separate the outputs for the two neurons in the final layer."
   ]
  },
  {
   "cell_type": "code",
   "execution_count": 76,
   "metadata": {},
   "outputs": [],
   "source": [
    "predictions=model1.predict(val_img_data)\n",
    "\n",
    "low_predict = predictions[:,0]\n",
    "high_predict = predictions[:,1]"
   ]
  },
  {
   "cell_type": "markdown",
   "metadata": {},
   "source": [
    "Now combine the temperature of the simulations with their predicted phase."
   ]
  },
  {
   "cell_type": "code",
   "execution_count": 77,
   "metadata": {
    "scrolled": true
   },
   "outputs": [
    {
     "data": {
      "text/html": [
       "<div>\n",
       "<style scoped>\n",
       "    .dataframe tbody tr th:only-of-type {\n",
       "        vertical-align: middle;\n",
       "    }\n",
       "\n",
       "    .dataframe tbody tr th {\n",
       "        vertical-align: top;\n",
       "    }\n",
       "\n",
       "    .dataframe thead th {\n",
       "        text-align: right;\n",
       "    }\n",
       "</style>\n",
       "<table border=\"1\" class=\"dataframe\">\n",
       "  <thead>\n",
       "    <tr style=\"text-align: right;\">\n",
       "      <th></th>\n",
       "      <th>low_prediction</th>\n",
       "      <th>High_prediction</th>\n",
       "      <th>Temp</th>\n",
       "    </tr>\n",
       "  </thead>\n",
       "  <tbody>\n",
       "    <tr>\n",
       "      <th>0</th>\n",
       "      <td>0.999670</td>\n",
       "      <td>0.000330</td>\n",
       "      <td>1.80</td>\n",
       "    </tr>\n",
       "    <tr>\n",
       "      <th>1</th>\n",
       "      <td>0.999796</td>\n",
       "      <td>0.000204</td>\n",
       "      <td>1.75</td>\n",
       "    </tr>\n",
       "    <tr>\n",
       "      <th>2</th>\n",
       "      <td>0.000001</td>\n",
       "      <td>0.999999</td>\n",
       "      <td>2.95</td>\n",
       "    </tr>\n",
       "    <tr>\n",
       "      <th>3</th>\n",
       "      <td>0.999226</td>\n",
       "      <td>0.000774</td>\n",
       "      <td>1.80</td>\n",
       "    </tr>\n",
       "    <tr>\n",
       "      <th>4</th>\n",
       "      <td>0.000009</td>\n",
       "      <td>0.999991</td>\n",
       "      <td>2.90</td>\n",
       "    </tr>\n",
       "  </tbody>\n",
       "</table>\n",
       "</div>"
      ],
      "text/plain": [
       "   low_prediction  High_prediction  Temp\n",
       "0        0.999670         0.000330  1.80\n",
       "1        0.999796         0.000204  1.75\n",
       "2        0.000001         0.999999  2.95\n",
       "3        0.999226         0.000774  1.80\n",
       "4        0.000009         0.999991  2.90"
      ]
     },
     "execution_count": 77,
     "metadata": {},
     "output_type": "execute_result"
    }
   ],
   "source": [
    "df1 = pd.DataFrame({'low_prediction':low_predict,'High_prediction':high_predict, 'Temp':val_Temp_data})\n",
    "df1.head()"
   ]
  },
  {
   "cell_type": "markdown",
   "metadata": {},
   "source": [
    "For each temperature, determine the average (and standard deviation) output of both neurons in the output layer. \n",
    "Then, plot these averages against the Temperature."
   ]
  },
  {
   "cell_type": "code",
   "execution_count": 78,
   "metadata": {},
   "outputs": [],
   "source": [
    "df2=df1.groupby('Temp').mean()\n",
    "df3=df1.groupby('Temp').std()"
   ]
  },
  {
   "cell_type": "markdown",
   "metadata": {},
   "source": [
    "This plot shows the average output of the final layer for configurations of different temperatures. The temperature at which the curves cross indicate the temperature at which the neural net, on average, switches between classifying a configuration as a \"low\" vs \"high\" temperature phase. This is precicesly the critical temperature. For a square lattice, the critical temperature for the Ising model is ~2.27. The crossing point in the plot is very close to this value.\n",
    "\n",
    "The model was never given direct information about the temperatures in the dataset, yet it correctly identifies the critical phase transition temperature.\n",
    "\n",
    "Other properties to note, are that there is very little variation in the model prediction far from the critical temperature, and increase variation near the crossing point. This is expected, given that configurations are very simuilar on either side of the switching point. I can impove this uncertainty by increasing the size of the validation set, only 100 configurations for each temperature are present in the validation set. In the paper, Carrasquilla, 2017, 10,000 configurations are used for each temperature."
   ]
  },
  {
   "cell_type": "code",
   "execution_count": 105,
   "metadata": {},
   "outputs": [
    {
     "data": {
      "text/plain": [
       "<matplotlib.axes._subplots.AxesSubplot at 0x7f7438189dd8>"
      ]
     },
     "execution_count": 105,
     "metadata": {},
     "output_type": "execute_result"
    },
    {
     "data": {
      "image/png": "[encoded data removed]",
      "text/plain": [
       "<Figure size 432x288 with 1 Axes>"
      ]
     },
     "metadata": {
      "needs_background": "light"
     },
     "output_type": "display_data"
    }
   ],
   "source": [
    "df2.plot(marker='o',yerr=df3, title=\"Output layer values for different temperatures\")"
   ]
  },
  {
   "cell_type": "markdown",
   "metadata": {},
   "source": [
    "We can take a look at some of the incorrectly classified examples. Below, I plot configurations that were classified as \"low\" temperature phase, but for which the temperature was >=2.4\n",
    "\n",
    "Configurations that were strongly classified as \"low\" tend to have very small clusters. The ones with larger clusters, are only marginally misclassified (i.e. output for the \"low\"-neuron is ~0.6"
   ]
  },
  {
   "cell_type": "code",
   "execution_count": 106,
   "metadata": {},
   "outputs": [],
   "source": [
    "bad_predictions=[]\n",
    "for i in range(len(val_lbl_data)):\n",
    "    if (low_predict[i]>0.5 and val_Temp_data[i]>=2.4):\n",
    "        bad_predictions.append(i)"
   ]
  },
  {
   "cell_type": "code",
   "execution_count": 107,
   "metadata": {},
   "outputs": [],
   "source": [
    "#bad_predictions\n",
    "#idx=bad_predictions[1]\n",
    "#plt.imshow(val_img_data[idx])\n",
    "#print(val_lbl_data[idx],val_Temp_data[idx],low_predict[idx])"
   ]
  },
  {
   "cell_type": "code",
   "execution_count": 110,
   "metadata": {},
   "outputs": [
    {
     "data": {
      "image/png": "[encoded data removed]",
      "text/plain": [
       "<Figure size 720x720 with 15 Axes>"
      ]
     },
     "metadata": {},
     "output_type": "display_data"
    }
   ],
   "source": [
    "# Plot incorrectly classified examples, and show the temperature and output of the \"low\" prediction neuron.\n",
    "plt.figure(figsize=(10,10))\n",
    "for i in range(15):\n",
    "    idx=bad_predictions[i]\n",
    "    plt.subplot(5,5,i+1)\n",
    "    plt.xticks([])\n",
    "    plt.yticks([])\n",
    "    plt.grid(False)\n",
    "    plt.imshow(val_img_data[idx])\n",
    "    plt.xlabel(f'{val_Temp_data[idx]}, {low_predict[idx]:.2f}')"
   ]
  },
  {
   "cell_type": "markdown",
   "metadata": {},
   "source": [
    "## Convolutional Neural Net\n",
    "Now I construct a neural net with two hidden layers. One is a 2-D convolutional layer with 64 filters, and another is a fully connected layer."
   ]
  },
  {
   "cell_type": "markdown",
   "metadata": {},
   "source": [
    "First I reshape the input data to feed into the convolutional layer."
   ]
  },
  {
   "cell_type": "code",
   "execution_count": 111,
   "metadata": {},
   "outputs": [],
   "source": [
    "tr_img_data = np.array([i[0] for i in train_set]).reshape(-1,20,20,1)\n",
    "val_img_data = np.array([i[0] for i in valid_set]).reshape(-1,20,20,1)"
   ]
  },
  {
   "cell_type": "markdown",
   "metadata": {},
   "source": [
    "Define the CNN."
   ]
  },
  {
   "cell_type": "code",
   "execution_count": 114,
   "metadata": {},
   "outputs": [],
   "source": [
    "model2 = keras.Sequential([\n",
    "    #keras.layers.Flatten(input_shape=(20, 20)),\n",
    "    keras.layers.Conv2D(64, (2, 2), input_shape=(20, 20, 1), padding='same'),\n",
    "    keras.layers.ReLU(),\n",
    "    \n",
    "    keras.layers.Flatten(),\n",
    "    keras.layers.Dense(64, activation=tf.nn.relu),\n",
    "    keras.layers.Dropout(0.3),\n",
    "    \n",
    "    keras.layers.Dense(2, activation=tf.nn.softmax)\n",
    "])"
   ]
  },
  {
   "cell_type": "code",
   "execution_count": 115,
   "metadata": {},
   "outputs": [],
   "source": [
    "model2.compile(optimizer=tf.train.AdamOptimizer(learning_rate=0.001), loss='binary_crossentropy', metrics=['accuracy'])"
   ]
  },
  {
   "cell_type": "markdown",
   "metadata": {},
   "source": [
    "Train!"
   ]
  },
  {
   "cell_type": "code",
   "execution_count": 116,
   "metadata": {},
   "outputs": [
    {
     "name": "stdout",
     "output_type": "stream",
     "text": [
      "Epoch 1/10\n",
      "15000/15000 [==============================] - 2s 161us/step - loss: 0.2112 - acc: 0.9291\n",
      "Epoch 2/10\n",
      "15000/15000 [==============================] - 2s 113us/step - loss: 0.1508 - acc: 0.9497\n",
      "Epoch 3/10\n",
      "15000/15000 [==============================] - 2s 104us/step - loss: 0.1302 - acc: 0.9575\n",
      "Epoch 4/10\n",
      "15000/15000 [==============================] - 2s 101us/step - loss: 0.1164 - acc: 0.9614\n",
      "Epoch 5/10\n",
      "15000/15000 [==============================] - 2s 104us/step - loss: 0.1063 - acc: 0.9638\n",
      "Epoch 6/10\n",
      "15000/15000 [==============================] - 2s 109us/step - loss: 0.0943 - acc: 0.9678\n",
      "Epoch 7/10\n",
      "15000/15000 [==============================] - 2s 108us/step - loss: 0.0805 - acc: 0.9717\n",
      "Epoch 8/10\n",
      "15000/15000 [==============================] - 2s 104us/step - loss: 0.0725 - acc: 0.9757\n",
      "Epoch 9/10\n",
      "15000/15000 [==============================] - 1s 100us/step - loss: 0.0672 - acc: 0.9782\n",
      "Epoch 10/10\n",
      "15000/15000 [==============================] - 2s 102us/step - loss: 0.0639 - acc: 0.9789\n"
     ]
    },
    {
     "data": {
      "text/plain": [
       "<tensorflow.python.keras.callbacks.History at 0x7f743bff5748>"
      ]
     },
     "execution_count": 116,
     "metadata": {},
     "output_type": "execute_result"
    }
   ],
   "source": [
    "model2.fit(x=tr_img_data,y=tr_lbl_data, epochs=10,batch_size=64)"
   ]
  },
  {
   "cell_type": "code",
   "execution_count": 118,
   "metadata": {
    "scrolled": true
   },
   "outputs": [
    {
     "name": "stdout",
     "output_type": "stream",
     "text": [
      "3000/3000 [==============================] - 0s 103us/step\n",
      "Test accuracy: 0.9336666666666666\n",
      "Validation loss: 0.242769040892832\n"
     ]
    }
   ],
   "source": [
    "val_loss, val_acc = model2.evaluate(val_img_data, val_lbl_data)\n",
    "print('Test accuracy:', val_acc)\n",
    "print('Validation loss:', val_loss)"
   ]
  },
  {
   "cell_type": "markdown",
   "metadata": {},
   "source": [
    "We achieve similar performance to the single-hidden-layer net above."
   ]
  },
  {
   "cell_type": "code",
   "execution_count": 119,
   "metadata": {},
   "outputs": [],
   "source": [
    "predictions2=model2.predict(val_img_data)\n",
    "\n",
    "low_predict2 = predictions2[:,0]\n",
    "high_predict2 = predictions2[:,1]"
   ]
  },
  {
   "cell_type": "code",
   "execution_count": 133,
   "metadata": {},
   "outputs": [],
   "source": [
    "df4 = pd.DataFrame({'low_prediction':low_predict2,'high_prediction':high_predict2, 'Temp':val_Temp_data})\n"
   ]
  },
  {
   "cell_type": "markdown",
   "metadata": {},
   "source": [
    "Again, we see that the cross-over temperature is very near the theoretical value (2.27)"
   ]
  },
  {
   "cell_type": "code",
   "execution_count": 134,
   "metadata": {},
   "outputs": [
    {
     "data": {
      "text/plain": [
       "<matplotlib.axes._subplots.AxesSubplot at 0x7f737d547eb8>"
      ]
     },
     "execution_count": 134,
     "metadata": {},
     "output_type": "execute_result"
    },
    {
     "data": {
      "image/png": "[encoded data removed]",
      "text/plain": [
       "<Figure size 432x288 with 1 Axes>"
      ]
     },
     "metadata": {
      "needs_background": "light"
     },
     "output_type": "display_data"
    }
   ],
   "source": [
    "df5=df4.groupby('Temp').mean()\n",
    "df6=df4.groupby('Temp').std()\n",
    "df5.plot(marker='o',yerr=df6,title=\"Output layer values for different temperatures\")"
   ]
  },
  {
   "cell_type": "markdown",
   "metadata": {},
   "source": [
    "## Test model on triangular lattice simulations\n",
    "To test the predictive power of these neural nets, I use the trained CNN to classify Ising simulations on a triangular lattice. The main difference for a triangular lattice is that the critical phase transition temperature is different from the square lattice. This is because each particle in a triangular lattice has 6 nearest neighbors, as opposed to 4 in a square lattice.\n",
    "\n",
    "Critical Temperature fro triangular lattice is ~3.65"
   ]
  },
  {
   "cell_type": "markdown",
   "metadata": {},
   "source": [
    "First load the triangular lattice test data."
   ]
  },
  {
   "cell_type": "code",
   "execution_count": 137,
   "metadata": {},
   "outputs": [],
   "source": [
    "testTri_path = '../../data/Ising/testTri/'"
   ]
  },
  {
   "cell_type": "code",
   "execution_count": 138,
   "metadata": {},
   "outputs": [
    {
     "name": "stderr",
     "output_type": "stream",
     "text": [
      "100%|██████████| 1200/1200 [00:00<00:00, 3453.09it/s]\n",
      "100%|██████████| 800/800 [00:00<00:00, 3535.11it/s]\n"
     ]
    }
   ],
   "source": [
    "testTri_set=data_with_label(testTri_path,'low','high')\n",
    "testTri_img_data = np.array([i[0] for i in testTri_set])\n",
    "testTri_lbl_data = np.array([i[1][0] for i in testTri_set])\n",
    "testTri_Temp_data = np.array([float(i[1][1]) for i in testTri_set])"
   ]
  },
  {
   "cell_type": "code",
   "execution_count": 139,
   "metadata": {},
   "outputs": [],
   "source": [
    "testTri_img_data = np.array([i[0] for i in testTri_set]).reshape(-1,20,20,1)"
   ]
  },
  {
   "cell_type": "markdown",
   "metadata": {},
   "source": [
    "Use the trained CNN above to classify the high and low temperature states.\n",
    "\n",
    "I achieve similar accuracy as on the validation set."
   ]
  },
  {
   "cell_type": "code",
   "execution_count": 141,
   "metadata": {},
   "outputs": [
    {
     "name": "stdout",
     "output_type": "stream",
     "text": [
      "2000/2000 [==============================] - 0s 73us/step\n",
      "Test accuracy: 0.936\n",
      "Test loss: 0.23583182990550994\n"
     ]
    }
   ],
   "source": [
    "test_loss, test_acc = model2.evaluate(testTri_img_data, testTri_lbl_data)\n",
    "print('Test accuracy:', test_acc)\n",
    "print('Test loss:', test_loss)"
   ]
  },
  {
   "cell_type": "markdown",
   "metadata": {},
   "source": [
    "Next, I determine the critical phase transition temperature."
   ]
  },
  {
   "cell_type": "code",
   "execution_count": 142,
   "metadata": {},
   "outputs": [],
   "source": [
    "predictions3=model2.predict(testTri_img_data)\n",
    "\n",
    "low_predict3 = predictions3[:,0]\n",
    "high_predict3 = predictions3[:,1]"
   ]
  },
  {
   "cell_type": "code",
   "execution_count": 143,
   "metadata": {},
   "outputs": [],
   "source": [
    "dfT1 = pd.DataFrame({'low_prediction':low_predict3,'high_prediction':high_predict3, 'Temp':testTri_Temp_data})\n"
   ]
  },
  {
   "cell_type": "code",
   "execution_count": 144,
   "metadata": {},
   "outputs": [
    {
     "data": {
      "text/plain": [
       "<matplotlib.axes._subplots.AxesSubplot at 0x7f737d59bd30>"
      ]
     },
     "execution_count": 144,
     "metadata": {},
     "output_type": "execute_result"
    },
    {
     "data": {
      "image/png": "[encoded data removed]",
      "text/plain": [
       "<Figure size 432x288 with 1 Axes>"
      ]
     },
     "metadata": {
      "needs_background": "light"
     },
     "output_type": "display_data"
    }
   ],
   "source": [
    "dfT2=dfT1.groupby('Temp').mean()\n",
    "dfT3=dfT1.groupby('Temp').std()\n",
    "dfT2.plot(marker='o',yerr=dfT3)"
   ]
  },
  {
   "cell_type": "markdown",
   "metadata": {},
   "source": [
    "The predicted crossing point is indeed very closs to the theoretical value of 3.65 !"
   ]
  },
  {
   "cell_type": "markdown",
   "metadata": {},
   "source": [
    "Future work on this topic will be on improving the neural nets, and exploring how changes to the generated datasets (i.e. using a different simulation algorithm) alter the neural net training."
   ]
  },
  {
   "cell_type": "code",
   "execution_count": null,
   "metadata": {},
   "outputs": [],
   "source": []
  }
 ],
 "metadata": {
  "kernelspec": {
   "display_name": "Python 3",
   "language": "python",
   "name": "python3"
  },
  "language_info": {
   "codemirror_mode": {
    "name": "ipython",
    "version": 3
   },
   "file_extension": ".py",
   "mimetype": "text/x-python",
   "name": "python",
   "nbconvert_exporter": "python",
   "pygments_lexer": "ipython3",
   "version": "3.6.7"
  }
 },
 "nbformat": 4,
 "nbformat_minor": 2
}
