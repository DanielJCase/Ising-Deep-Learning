{
 "cells": [
  {
   "cell_type": "markdown",
   "metadata": {},
   "source": [
    "## Ising Model Neural Nets\n",
    "Here, we develop two neural nets which are trained to classify simulation results of the Ising model into \"low\" and \"high\" temperature phases.\n",
    "\n",
    "First we train a neural net with a single hidden layer, an then a convolutional net."
   ]
  },
  {
   "cell_type": "code",
   "execution_count": 35,
   "metadata": {},
   "outputs": [],
   "source": [
    "%matplotlib inline\n",
    "import numpy as np\n",
    "import os\n",
    "from random import shuffle\n",
    "from tqdm import tqdm\n",
    "import tensorflow as tf\n",
    "import matplotlib.pyplot as plt\n",
    "import pandas as pd\n",
    "from tensorflow import keras"
   ]
  },
  {
   "cell_type": "markdown",
   "metadata": {},
   "source": [
    "Set the locations training, validation, and test sets."
   ]
  },
  {
   "cell_type": "code",
   "execution_count": 5,
   "metadata": {},
   "outputs": [],
   "source": [
    "train_data = '../../data/Ising/train/'\n",
    "test_data = '../../data/Ising/test/'\n",
    "valid_data = '../../data/Ising/valid/'"
   ]
  },
  {
   "cell_type": "code",
   "execution_count": 6,
   "metadata": {},
   "outputs": [],
   "source": [
    "#highTList=os.listdir(train_data+\"high\")"
   ]
  },
  {
   "cell_type": "code",
   "execution_count": 7,
   "metadata": {},
   "outputs": [],
   "source": [
    "#class_names = ['low', 'high']"
   ]
  },
  {
   "cell_type": "markdown",
   "metadata": {},
   "source": [
    "Set up some helper functions to sort the data and labels.\n",
    "\n",
    "The file name for each simulation is in the form ```phase_Temp_index_.npy``` where ```phase``` is either \"high\" or \"low\" and is the label we are training against. We also keep track of the temperature of each simulations, which will allow us to determine the critical phase transition temperature."
   ]
  },
  {
   "cell_type": "code",
   "execution_count": 8,
   "metadata": {},
   "outputs": [],
   "source": [
    "def one_hot_label(img):\n",
    "    label,T,_,_ = img.split('_')\n",
    "    if label == 'low':\n",
    "        ohl = np.array([1,0])\n",
    "    elif label == 'high':\n",
    "        ohl = np.array([0,1])\n",
    "    return ohl,T\n",
    "def train_data_with_label(train_path,*args):\n",
    "    train_images = []\n",
    "    if args:\n",
    "        for category in args:\n",
    "            for i in tqdm(os.listdir(train_path + category)):\n",
    "                path = os.path.join(train_path, category,i)\n",
    "                img = np.load(path)\n",
    "                #img = cv2.imread(path, cv2.IMREAD_GRAYSCALE)\n",
    "                #img = cv2.resize(img, (128,128))\n",
    "                train_images.append([img, one_hot_label(i)])\n",
    "        shuffle(train_images)\n",
    "        return train_images\n",
    "\n",
    "def valid_data_with_label(valid_path,*args):\n",
    "    valid_images = []\n",
    "    if args:\n",
    "        for category in args:\n",
    "            for i in tqdm(os.listdir(valid_path + category)):\n",
    "                path = os.path.join(valid_path, category,i)\n",
    "                img = np.load(path)\n",
    "                #img = cv2.imread(path, cv2.IMREAD_GRAYSCALE)\n",
    "                #img = cv2.resize(img, (128,128))\n",
    "                valid_images.append([img, one_hot_label(i)])\n",
    "        shuffle(valid_images)\n",
    "        return valid_images\n",
    "    "
   ]
  },
  {
   "cell_type": "markdown",
   "metadata": {},
   "source": [
    "Load in the train and validation sets.\n",
    "\n",
    "Each element of the sets consists of a tuple of the form: (numpy array, one hot label, temperature)"
   ]
  },
  {
   "cell_type": "code",
   "execution_count": 9,
   "metadata": {},
   "outputs": [
    {
     "name": "stderr",
     "output_type": "stream",
     "text": [
      "100%|██████████| 2700/2700 [00:01<00:00, 2104.65it/s]\n",
      "100%|██████████| 1800/1800 [00:00<00:00, 2145.54it/s]\n",
      "100%|██████████| 450/450 [00:00<00:00, 2127.78it/s]\n",
      "100%|██████████| 300/300 [00:00<00:00, 2128.43it/s]\n"
     ]
    }
   ],
   "source": [
    "train_set=train_data_with_label(train_data,'low','high')\n",
    "valid_set=valid_data_with_label(valid_data,'low','high')"
   ]
  },
  {
   "cell_type": "markdown",
   "metadata": {},
   "source": [
    "Take a look at a few samples"
   ]
  },
  {
   "cell_type": "code",
   "execution_count": 16,
   "metadata": {},
   "outputs": [
    {
     "data": {
      "text/plain": [
       "(array([0, 1]), '2.4')"
      ]
     },
     "execution_count": 16,
     "metadata": {},
     "output_type": "execute_result"
    },
    {
     "data": {
      "image/png": "[encoded data removed]",
      "text/plain": [
       "<Figure size 432x288 with 1 Axes>"
      ]
     },
     "metadata": {
      "needs_background": "light"
     },
     "output_type": "display_data"
    }
   ],
   "source": [
    "n_test=34\n",
    "plt.imshow(train_set[n_test][0])\n",
    "train_set[n_test][1]"
   ]
  },
  {
   "cell_type": "markdown",
   "metadata": {},
   "source": [
    "Separate the loaded data into arrays containing the image data, label data, and temperature data."
   ]
  },
  {
   "cell_type": "code",
   "execution_count": 17,
   "metadata": {},
   "outputs": [],
   "source": [
    "tr_img_data = np.array([i[0] for i in train_set])\n",
    "tr_lbl_data = np.array([i[1][0] for i in train_set])\n",
    "tr_Temp_data = np.array([i[1][1] for i in train_set])\n",
    "val_img_data = np.array([i[0] for i in valid_set])\n",
    "val_lbl_data = np.array([i[1][0] for i in valid_set])\n",
    "val_Temp_data = np.array([float(i[1][1]) for i in valid_set])"
   ]
  },
  {
   "cell_type": "markdown",
   "metadata": {},
   "source": [
    "## Single hidden layer NN\n",
    "Define the model for a NN with one hidden layer containing $100$ neurons."
   ]
  },
  {
   "cell_type": "code",
   "execution_count": 28,
   "metadata": {},
   "outputs": [],
   "source": [
    "model1 = keras.Sequential([\n",
    "    keras.layers.Flatten(input_shape=(20, 20)),\n",
    "    keras.layers.Dense(100, activation=tf.nn.relu ),\n",
    "    keras.layers.Dense(2, activation=tf.nn.softmax)\n",
    "])"
   ]
  },
  {
   "cell_type": "code",
   "execution_count": 29,
   "metadata": {},
   "outputs": [],
   "source": [
    "model1.compile(optimizer=tf.train.AdamOptimizer(learning_rate=0.001), loss='binary_crossentropy', metrics=['accuracy'])"
   ]
  },
  {
   "cell_type": "code",
   "execution_count": 30,
   "metadata": {
    "scrolled": true
   },
   "outputs": [
    {
     "name": "stdout",
     "output_type": "stream",
     "text": [
      "Epoch 1/10\n",
      "4500/4500 [==============================] - 0s 78us/step - loss: 0.2546 - acc: 0.8949\n",
      "Epoch 2/10\n",
      "4500/4500 [==============================] - 0s 33us/step - loss: 0.1494 - acc: 0.9458\n",
      "Epoch 3/10\n",
      "4500/4500 [==============================] - 0s 31us/step - loss: 0.1187 - acc: 0.9553\n",
      "Epoch 4/10\n",
      "4500/4500 [==============================] - 0s 34us/step - loss: 0.0897 - acc: 0.9671\n",
      "Epoch 5/10\n",
      "4500/4500 [==============================] - 0s 31us/step - loss: 0.0726 - acc: 0.9758\n",
      "Epoch 6/10\n",
      "4500/4500 [==============================] - 0s 32us/step - loss: 0.0559 - acc: 0.9829\n",
      "Epoch 7/10\n",
      "4500/4500 [==============================] - 0s 34us/step - loss: 0.0428 - acc: 0.9884\n",
      "Epoch 8/10\n",
      "4500/4500 [==============================] - 0s 32us/step - loss: 0.0322 - acc: 0.9929\n",
      "Epoch 9/10\n",
      "4500/4500 [==============================] - 0s 34us/step - loss: 0.0247 - acc: 0.9964\n",
      "Epoch 10/10\n",
      "4500/4500 [==============================] - 0s 32us/step - loss: 0.0224 - acc: 0.9971\n"
     ]
    },
    {
     "data": {
      "text/plain": [
       "<tensorflow.python.keras.callbacks.History at 0x7f75347ab940>"
      ]
     },
     "execution_count": 30,
     "metadata": {},
     "output_type": "execute_result"
    }
   ],
   "source": [
    "model1.fit(x=tr_img_data,y=tr_lbl_data, epochs=10,batch_size=64)"
   ]
  },
  {
   "cell_type": "code",
   "execution_count": 31,
   "metadata": {},
   "outputs": [
    {
     "name": "stdout",
     "output_type": "stream",
     "text": [
      "750/750 [==============================] - 0s 127us/step\n",
      "Test accuracy: 0.9253333328564962\n"
     ]
    }
   ],
   "source": [
    "val_loss, val_acc = model1.evaluate(val_img_data, val_lbl_data)\n",
    "print('Test accuracy:', val_acc)"
   ]
  },
  {
   "cell_type": "markdown",
   "metadata": {},
   "source": [
    "## Determine the critical temperature\n",
    "First get the model predictions for the validation set, and separate the outputs for the two neurons in the final layer"
   ]
  },
  {
   "cell_type": "code",
   "execution_count": 65,
   "metadata": {},
   "outputs": [],
   "source": [
    "predictions=model1.predict(val_img_data)\n",
    "\n",
    "low_predict = predictions[:,0]\n",
    "high_predict = predictions[:,1]"
   ]
  },
  {
   "cell_type": "markdown",
   "metadata": {},
   "source": [
    "Now combine the temperature of the simulations with their predicted phase."
   ]
  },
  {
   "cell_type": "code",
   "execution_count": 70,
   "metadata": {
    "scrolled": true
   },
   "outputs": [
    {
     "data": {
      "text/html": [
       "<div>\n",
       "<style scoped>\n",
       "    .dataframe tbody tr th:only-of-type {\n",
       "        vertical-align: middle;\n",
       "    }\n",
       "\n",
       "    .dataframe tbody tr th {\n",
       "        vertical-align: top;\n",
       "    }\n",
       "\n",
       "    .dataframe thead th {\n",
       "        text-align: right;\n",
       "    }\n",
       "</style>\n",
       "<table border=\"1\" class=\"dataframe\">\n",
       "  <thead>\n",
       "    <tr style=\"text-align: right;\">\n",
       "      <th></th>\n",
       "      <th>pred_low</th>\n",
       "      <th>pred_high</th>\n",
       "      <th>Temp</th>\n",
       "    </tr>\n",
       "  </thead>\n",
       "  <tbody>\n",
       "    <tr>\n",
       "      <th>0</th>\n",
       "      <td>0.286215</td>\n",
       "      <td>0.713785</td>\n",
       "      <td>2.6</td>\n",
       "    </tr>\n",
       "    <tr>\n",
       "      <th>1</th>\n",
       "      <td>0.999386</td>\n",
       "      <td>0.000614</td>\n",
       "      <td>1.7</td>\n",
       "    </tr>\n",
       "    <tr>\n",
       "      <th>2</th>\n",
       "      <td>0.999993</td>\n",
       "      <td>0.000007</td>\n",
       "      <td>1.9</td>\n",
       "    </tr>\n",
       "    <tr>\n",
       "      <th>3</th>\n",
       "      <td>0.998411</td>\n",
       "      <td>0.001589</td>\n",
       "      <td>1.6</td>\n",
       "    </tr>\n",
       "    <tr>\n",
       "      <th>4</th>\n",
       "      <td>0.999971</td>\n",
       "      <td>0.000029</td>\n",
       "      <td>2.2</td>\n",
       "    </tr>\n",
       "  </tbody>\n",
       "</table>\n",
       "</div>"
      ],
      "text/plain": [
       "   pred_low  pred_high  Temp\n",
       "0  0.286215   0.713785   2.6\n",
       "1  0.999386   0.000614   1.7\n",
       "2  0.999993   0.000007   1.9\n",
       "3  0.998411   0.001589   1.6\n",
       "4  0.999971   0.000029   2.2"
      ]
     },
     "execution_count": 70,
     "metadata": {},
     "output_type": "execute_result"
    }
   ],
   "source": [
    "df1 = pd.DataFrame({'pred_low':low_predict,'pred_high':high_predict, 'Temp':val_Temp_data})\n",
    "df1.head()"
   ]
  },
  {
   "cell_type": "markdown",
   "metadata": {},
   "source": [
    "Find the average (and standard deviation) output of each neuron for each temperature, and plot the results."
   ]
  },
  {
   "cell_type": "code",
   "execution_count": 75,
   "metadata": {},
   "outputs": [],
   "source": [
    "df2=df1.groupby('Temp').mean()\n",
    "df3=df1.groupby('Temp').std()\n",
    "#df.sort_values(by='Temp')"
   ]
  },
  {
   "cell_type": "code",
   "execution_count": 76,
   "metadata": {},
   "outputs": [
    {
     "data": {
      "text/plain": [
       "<matplotlib.axes._subplots.AxesSubplot at 0x7f74de236be0>"
      ]
     },
     "execution_count": 76,
     "metadata": {},
     "output_type": "execute_result"
    },
    {
     "data": {
      "image/png": "[encoded data removed]",
      "text/plain": [
       "<Figure size 432x288 with 1 Axes>"
      ]
     },
     "metadata": {
      "needs_background": "light"
     },
     "output_type": "display_data"
    }
   ],
   "source": [
    "df2.plot(marker='o',yerr=df3)"
   ]
  },
  {
   "cell_type": "code",
   "execution_count": 66,
   "metadata": {},
   "outputs": [],
   "source": [
    "#plt.plot(val_Temp_data,low_predict,'o')\n",
    "#plt.plot(val_Temp_data,high_predict,'o')"
   ]
  },
  {
   "cell_type": "code",
   "execution_count": 112,
   "metadata": {},
   "outputs": [],
   "source": [
    "bad_predictions=[]\n",
    "for i in range(len(val_lbl_data)):\n",
    "    #if (low_predict[i]>0.5 and val_lbl_data[i]=='high' and val_Temp_data[i]>=2.6):\n",
    "    if (low_predict[i]>0.5 and val_Temp_data[i]>=2.6):\n",
    "        bad_predictions.append(i)"
   ]
  },
  {
   "cell_type": "code",
   "execution_count": 113,
   "metadata": {},
   "outputs": [
    {
     "data": {
      "text/plain": [
       "[3, 123, 205, 223, 363, 713]"
      ]
     },
     "execution_count": 113,
     "metadata": {},
     "output_type": "execute_result"
    }
   ],
   "source": [
    "bad_predictions"
   ]
  },
  {
   "cell_type": "code",
   "execution_count": 115,
   "metadata": {
    "scrolled": true
   },
   "outputs": [
    {
     "name": "stdout",
     "output_type": "stream",
     "text": [
      "[0 1] 2.6 0.8983862\n"
     ]
    },
    {
     "data": {
      "image/png": "[encoded data removed]",
      "text/plain": [
       "<Figure size 432x288 with 1 Axes>"
      ]
     },
     "metadata": {
      "needs_background": "light"
     },
     "output_type": "display_data"
    }
   ],
   "source": [
    "idx=3\n",
    "plt.imshow(val_img_data[idx])\n",
    "print(val_lbl_data[idx],val_Temp_data[idx],low_predict[idx])"
   ]
  },
  {
   "cell_type": "code",
   "execution_count": 77,
   "metadata": {},
   "outputs": [],
   "source": [
    "#df2.plot(x='Temp',y='pred_low',marker='o')\n",
    "#df2.plot(x='Temp',y='pred_high',marker='o')"
   ]
  },
  {
   "cell_type": "code",
   "execution_count": 79,
   "metadata": {},
   "outputs": [],
   "source": [
    "#df2.plot(x='Temp',marker='o',yerr=df3)"
   ]
  },
  {
   "cell_type": "markdown",
   "metadata": {},
   "source": [
    "## Convolutional Neural Net"
   ]
  },
  {
   "cell_type": "code",
   "execution_count": 113,
   "metadata": {},
   "outputs": [],
   "source": [
    "model2 = keras.Sequential([\n",
    "    #keras.layers.Flatten(input_shape=(20, 20)),\n",
    "    keras.layers.Conv2D(64, (2, 2), input_shape=(20, 20, 1), padding='same'),\n",
    "    keras.layers.ReLU(),\n",
    "    \n",
    "    keras.layers.Flatten(),\n",
    "    keras.layers.Dense(64, activation=tf.nn.relu),\n",
    "    keras.layers.Dropout(0.3),\n",
    "    \n",
    "    keras.layers.Dense(2, activation=tf.nn.softmax)\n",
    "])"
   ]
  },
  {
   "cell_type": "code",
   "execution_count": 114,
   "metadata": {},
   "outputs": [],
   "source": [
    "model2.compile(optimizer=tf.train.AdamOptimizer(learning_rate=0.001), loss='binary_crossentropy', metrics=['accuracy'])"
   ]
  },
  {
   "cell_type": "code",
   "execution_count": 115,
   "metadata": {},
   "outputs": [],
   "source": [
    "tr_img_data = np.array([i[0] for i in train_set]).reshape(-1,20,20,1)\n",
    "val_img_data = np.array([i[0] for i in valid_set]).reshape(-1,20,20,1)"
   ]
  },
  {
   "cell_type": "code",
   "execution_count": 116,
   "metadata": {},
   "outputs": [
    {
     "name": "stdout",
     "output_type": "stream",
     "text": [
      "Epoch 1/5\n",
      "4500/4500 [==============================] - 1s 172us/step - loss: 0.2058 - acc: 0.9213\n",
      "Epoch 2/5\n",
      "4500/4500 [==============================] - 0s 63us/step - loss: 0.1053 - acc: 0.9547\n",
      "Epoch 3/5\n",
      "4500/4500 [==============================] - 0s 63us/step - loss: 0.0775 - acc: 0.9673\n",
      "Epoch 4/5\n",
      "4500/4500 [==============================] - 0s 63us/step - loss: 0.0626 - acc: 0.9782\n",
      "Epoch 5/5\n",
      "4500/4500 [==============================] - 0s 64us/step - loss: 0.0458 - acc: 0.9822\n"
     ]
    },
    {
     "data": {
      "text/plain": [
       "<tensorflow.python.keras.callbacks.History at 0x7f753e2302e8>"
      ]
     },
     "execution_count": 116,
     "metadata": {},
     "output_type": "execute_result"
    }
   ],
   "source": [
    "model2.fit(x=tr_img_data,y=tr_lbl_data, epochs=5,batch_size=64)"
   ]
  },
  {
   "cell_type": "code",
   "execution_count": 117,
   "metadata": {},
   "outputs": [
    {
     "name": "stdout",
     "output_type": "stream",
     "text": [
      "750/750 [==============================] - 0s 245us/step\n",
      "Test accuracy: 0.9493333328564961\n"
     ]
    }
   ],
   "source": [
    "val_loss, val_acc = model2.evaluate(val_img_data, val_lbl_data)\n",
    "print('Test accuracy:', val_acc)"
   ]
  },
  {
   "cell_type": "code",
   "execution_count": 118,
   "metadata": {},
   "outputs": [],
   "source": [
    "predictions2=model2.predict(val_img_data)\n",
    "\n",
    "low_predict2 = predictions2[:,0]\n",
    "high_predict2 = predictions2[:,1]"
   ]
  },
  {
   "cell_type": "code",
   "execution_count": 119,
   "metadata": {},
   "outputs": [],
   "source": [
    "df4 = pd.DataFrame({'pred_low':low_predict2,'pred_high':high_predict2, 'Temp':val_Temp_data})\n"
   ]
  },
  {
   "cell_type": "code",
   "execution_count": 120,
   "metadata": {},
   "outputs": [
    {
     "data": {
      "text/plain": [
       "<matplotlib.axes._subplots.AxesSubplot at 0x7f753dcf9d30>"
      ]
     },
     "execution_count": 120,
     "metadata": {},
     "output_type": "execute_result"
    },
    {
     "data": {
      "image/png": "[encoded data removed]",
      "text/plain": [
       "<Figure size 432x288 with 1 Axes>"
      ]
     },
     "metadata": {
      "needs_background": "light"
     },
     "output_type": "display_data"
    }
   ],
   "source": [
    "df5=df4.groupby('Temp').mean()\n",
    "df6=df4.groupby('Temp').std()\n",
    "df5.plot(marker='o',yerr=df3)"
   ]
  },
  {
   "cell_type": "code",
   "execution_count": null,
   "metadata": {},
   "outputs": [],
   "source": []
  }
 ],
 "metadata": {
  "kernelspec": {
   "display_name": "Python 3",
   "language": "python",
   "name": "python3"
  },
  "language_info": {
   "codemirror_mode": {
    "name": "ipython",
    "version": 3
   },
   "file_extension": ".py",
   "mimetype": "text/x-python",
   "name": "python",
   "nbconvert_exporter": "python",
   "pygments_lexer": "ipython3",
   "version": "3.6.7"
  }
 },
 "nbformat": 4,
 "nbformat_minor": 2
}
