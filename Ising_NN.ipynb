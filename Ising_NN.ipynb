{
 "cells": [
  {
   "cell_type": "markdown",
   "metadata": {},
   "source": [
    "# Ising Model Neural Nets\n",
    "Here, I develop two neural nets which are trained to classify simulation results of the 2-D Ising model into \"low\" and \"high\" temperature phases. In addition to correctly classifying the configurations, I show that the output of the neural nets can be used to determine the critical phase transition temperature.\n",
    "\n",
    "For for information about the Ising model, see the README or the [wiki page][example].\n",
    "\n",
    "  [example]: https://en.wikipedia.org/wiki/Ising_model\n",
    "\n",
    "The nets are first trained and validated on data from a square-lattice Ising model. Then, the model is tested on a dataset of simulations of the triangular-lattice Ising model. During training, the nets are only provided the simulation configurations and the label \"low\" or \"high\"; the temperature value used for each configuration is not provided to the nets.\n",
    "\n",
    "I first train a neural net with a single hidden layer. Then, I train a deep convolutional net.\n",
    "\n",
    "I consider two different system sizes, a 20x20 and a 40x40 lattice."
   ]
  },
  {
   "cell_type": "markdown",
   "metadata": {},
   "source": [
    "The results presented here are primarily a reproduction of the the findings in a recent Nature Physics publication:\n",
    "[Link to paper][example].\n",
    "\n",
    "  [example]: https://www.nature.com/articles/nphys4035"
   ]
  },
  {
   "cell_type": "code",
   "execution_count": 320,
   "metadata": {},
   "outputs": [],
   "source": [
    "%matplotlib inline\n",
    "import numpy as np\n",
    "import os\n",
    "from random import shuffle\n",
    "from tqdm import tqdm\n",
    "import tensorflow as tf\n",
    "import matplotlib.pyplot as plt\n",
    "import pandas as pd\n",
    "from tensorflow import keras"
   ]
  },
  {
   "cell_type": "markdown",
   "metadata": {},
   "source": [
    "# Load Data"
   ]
  },
  {
   "cell_type": "markdown",
   "metadata": {},
   "source": [
    "Set the paths of the datasets."
   ]
  },
  {
   "cell_type": "code",
   "execution_count": 323,
   "metadata": {},
   "outputs": [],
   "source": [
    "train_path = '../../data/Ising/train20v2/'\n",
    "valid_path = '../../data/Ising/valid20v2/'\n",
    "test_path = '../../data/Ising/testTri20v2/'"
   ]
  },
  {
   "cell_type": "markdown",
   "metadata": {},
   "source": [
    "Set up some helper functions to load and label the data.\n",
    "\n",
    "The file name for each simulation is in the form ```phase_Temp_index_.npy``` where ```phase``` is either \"high\" or \"low\" and is the label I am training with. I also keep track of the temperature of each of the simulations, which will allow me to determine the critical phase transition temperature. Finally, ```index``` simply provides a unique file name to each configuration."
   ]
  },
  {
   "cell_type": "code",
   "execution_count": 324,
   "metadata": {},
   "outputs": [],
   "source": [
    "def one_hot_label(img):\n",
    "    # img is the file name of a configuration\n",
    "    label,T,_,_ = img.split('_')\n",
    "    if label == 'low':\n",
    "        ohl = np.array([1,0])\n",
    "    elif label == 'high':\n",
    "        ohl = np.array([0,1])\n",
    "    return ohl,T\n",
    "def data_with_label(data_path,*args):\n",
    "    data = []\n",
    "    if args: # The args are a list if directories in the data path that separate the classes/categories\n",
    "        for category in args:\n",
    "            for i in tqdm(os.listdir(data_path + category)):\n",
    "                path = os.path.join(data_path, category,i)\n",
    "                img = np.load(path)\n",
    "                data.append([img.astype(dtype='float32'), one_hot_label(i)])\n",
    "        shuffle(data)\n",
    "        return data"
   ]
  },
  {
   "cell_type": "markdown",
   "metadata": {},
   "source": [
    "Load in the train and validation sets.\n",
    "\n",
    "Each element of the sets consists of a tuple of the form: (numpy array, \\[one hot label, temperature\\])"
   ]
  },
  {
   "cell_type": "code",
   "execution_count": 325,
   "metadata": {
    "scrolled": false
   },
   "outputs": [
    {
     "name": "stderr",
     "output_type": "stream",
     "text": [
      "100%|██████████| 14000/14000 [00:03<00:00, 3867.94it/s]\n",
      "100%|██████████| 16000/16000 [00:04<00:00, 3863.72it/s]\n",
      "100%|██████████| 2800/2800 [00:00<00:00, 3917.77it/s]\n",
      "100%|██████████| 3200/3200 [00:00<00:00, 3938.50it/s]\n"
     ]
    }
   ],
   "source": [
    "train_set=data_with_label(train_path,'low','high')\n",
    "valid_set=data_with_label(valid_path,'low','high')"
   ]
  },
  {
   "cell_type": "markdown",
   "metadata": {},
   "source": [
    "Separate the loaded data into arrays containing the image data, label data, and temperature data."
   ]
  },
  {
   "cell_type": "code",
   "execution_count": 388,
   "metadata": {},
   "outputs": [],
   "source": [
    "tr_img_data = np.array([i[0] for i in train_set])\n",
    "tr_lbl_data = np.array([i[1][0] for i in train_set])\n",
    "tr_Temp_data = np.array([i[1][1] for i in train_set])\n",
    "val_img_data = np.array([i[0] for i in valid_set])\n",
    "val_lbl_data = np.array([i[1][0] for i in valid_set])\n",
    "val_Temp_data = np.array([float(i[1][1]) for i in valid_set])"
   ]
  },
  {
   "cell_type": "markdown",
   "metadata": {},
   "source": [
    "Take a look at a few samples.\n",
    "\n",
    "The low temperature configurations tend to be predominately aligned in either the \"up\" (yellow) or \"down\" (purple) directions. This is expected since aligned spins is a lower energy state. For the high temperature configurations, clusters of aligned spins of various sizes form.  "
   ]
  },
  {
   "cell_type": "code",
   "execution_count": 327,
   "metadata": {},
   "outputs": [
    {
     "data": {
      "image/png": "[encoded data removed]",
      "text/plain": [
       "<Figure size 720x720 with 16 Axes>"
      ]
     },
     "metadata": {},
     "output_type": "display_data"
    }
   ],
   "source": [
    "plt.figure(figsize=(10,10))\n",
    "for i in range(16):\n",
    "    #idx=bad_predictions[i]\n",
    "    plt.subplot(4,4,i+1)\n",
    "    plt.xticks([])\n",
    "    plt.yticks([])\n",
    "    plt.grid(False)\n",
    "    plt.imshow(tr_img_data[i])\n",
    "    if tr_lbl_data[i][0] == 1:\n",
    "        label = \"Low\"\n",
    "    elif tr_lbl_data[i][1] == 1:\n",
    "        label = \"High\"\n",
    "    plt.xlabel(f'{label}, {tr_Temp_data[i]}')"
   ]
  },
  {
   "cell_type": "markdown",
   "metadata": {},
   "source": [
    "## Single hidden layer NN\n",
    "First, I create a simple neural net with a single 100-unit hidden layer with a sigmoid activation. The output layer contains two units with a softmax activation."
   ]
  },
  {
   "cell_type": "markdown",
   "metadata": {},
   "source": [
    "Define the model with the tf.Keras sequential API."
   ]
  },
  {
   "cell_type": "code",
   "execution_count": 354,
   "metadata": {},
   "outputs": [],
   "source": [
    "model1 = keras.Sequential([\n",
    "    keras.layers.Flatten(input_shape=(20, 20)),\n",
    "    keras.layers.Dense(100, activation=tf.nn.sigmoid),\n",
    "    #keras.layers.Dropout(0.3),\n",
    "    keras.layers.Dense(2, activation=tf.nn.softmax)\n",
    "])"
   ]
  },
  {
   "cell_type": "markdown",
   "metadata": {},
   "source": [
    "Set the model optimizer, learning rate, and loss function."
   ]
  },
  {
   "cell_type": "code",
   "execution_count": 355,
   "metadata": {},
   "outputs": [],
   "source": [
    "model1.compile(optimizer=tf.train.AdamOptimizer(learning_rate=0.001), loss='binary_crossentropy', metrics=['accuracy'])"
   ]
  },
  {
   "cell_type": "markdown",
   "metadata": {},
   "source": [
    "Train the model!"
   ]
  },
  {
   "cell_type": "code",
   "execution_count": 356,
   "metadata": {
    "scrolled": true
   },
   "outputs": [
    {
     "name": "stdout",
     "output_type": "stream",
     "text": [
      "Epoch 1/10\n",
      "30000/30000 [==============================] - 4s 130us/step - loss: 0.6746 - acc: 0.5664\n",
      "Epoch 2/10\n",
      "30000/30000 [==============================] - 1s 32us/step - loss: 0.5308 - acc: 0.8463\n",
      "Epoch 3/10\n",
      "30000/30000 [==============================] - 1s 32us/step - loss: 0.3397 - acc: 0.9221\n",
      "Epoch 4/10\n",
      "30000/30000 [==============================] - 1s 33us/step - loss: 0.2343 - acc: 0.9298\n",
      "Epoch 5/10\n",
      "30000/30000 [==============================] - 1s 33us/step - loss: 0.1931 - acc: 0.9347\n",
      "Epoch 6/10\n",
      "30000/30000 [==============================] - 1s 33us/step - loss: 0.1689 - acc: 0.9415\n",
      "Epoch 7/10\n",
      "30000/30000 [==============================] - 1s 32us/step - loss: 0.1558 - acc: 0.9434\n",
      "Epoch 8/10\n",
      "30000/30000 [==============================] - 1s 32us/step - loss: 0.1450 - acc: 0.9464\n",
      "Epoch 9/10\n",
      "30000/30000 [==============================] - 1s 33us/step - loss: 0.1372 - acc: 0.9490\n",
      "Epoch 10/10\n",
      "30000/30000 [==============================] - 1s 32us/step - loss: 0.1297 - acc: 0.9509\n"
     ]
    },
    {
     "data": {
      "text/plain": [
       "<tensorflow.python.keras.callbacks.History at 0x7f50557bc978>"
      ]
     },
     "execution_count": 356,
     "metadata": {},
     "output_type": "execute_result"
    }
   ],
   "source": [
    "model1.fit(x=tr_img_data,y=tr_lbl_data, epochs=10,batch_size=128)"
   ]
  },
  {
   "cell_type": "markdown",
   "metadata": {},
   "source": [
    "Evaluate the model performance on the validation set."
   ]
  },
  {
   "cell_type": "code",
   "execution_count": 357,
   "metadata": {},
   "outputs": [
    {
     "name": "stdout",
     "output_type": "stream",
     "text": [
      "6000/6000 [==============================] - 2s 293us/step\n",
      "Validation accuracy: 0.9351666666666667\n",
      "Validation loss: 0.17211099622646966\n"
     ]
    }
   ],
   "source": [
    "val_loss, val_acc = model1.evaluate(val_img_data, val_lbl_data,)\n",
    "print('Validation accuracy:', val_acc)\n",
    "print('Validation loss:', val_loss)"
   ]
  },
  {
   "cell_type": "markdown",
   "metadata": {},
   "source": [
    "## Determine the critical temperature\n",
    "Now that the model is trained, I can use the prediction output on the validation set to determine the critical phase transition temperature. \n",
    "\n",
    "First get the model predictions for the validation set, and separate the outputs for the two neurons in the final layer."
   ]
  },
  {
   "cell_type": "code",
   "execution_count": 358,
   "metadata": {},
   "outputs": [],
   "source": [
    "predictions=model1.predict(val_img_data)\n",
    "\n",
    "low_predict = predictions[:,0]\n",
    "high_predict = predictions[:,1]"
   ]
  },
  {
   "cell_type": "markdown",
   "metadata": {},
   "source": [
    "Now combine the temperature of the simulations with their predicted phase."
   ]
  },
  {
   "cell_type": "code",
   "execution_count": 359,
   "metadata": {
    "scrolled": true
   },
   "outputs": [
    {
     "data": {
      "text/html": [
       "<div>\n",
       "<style scoped>\n",
       "    .dataframe tbody tr th:only-of-type {\n",
       "        vertical-align: middle;\n",
       "    }\n",
       "\n",
       "    .dataframe tbody tr th {\n",
       "        vertical-align: top;\n",
       "    }\n",
       "\n",
       "    .dataframe thead th {\n",
       "        text-align: right;\n",
       "    }\n",
       "</style>\n",
       "<table border=\"1\" class=\"dataframe\">\n",
       "  <thead>\n",
       "    <tr style=\"text-align: right;\">\n",
       "      <th></th>\n",
       "      <th>low_prediction</th>\n",
       "      <th>High_prediction</th>\n",
       "      <th>Temp</th>\n",
       "    </tr>\n",
       "  </thead>\n",
       "  <tbody>\n",
       "    <tr>\n",
       "      <th>0</th>\n",
       "      <td>0.986511</td>\n",
       "      <td>0.013489</td>\n",
       "      <td>1.75</td>\n",
       "    </tr>\n",
       "    <tr>\n",
       "      <th>1</th>\n",
       "      <td>0.976762</td>\n",
       "      <td>0.023238</td>\n",
       "      <td>1.70</td>\n",
       "    </tr>\n",
       "    <tr>\n",
       "      <th>2</th>\n",
       "      <td>0.978676</td>\n",
       "      <td>0.021324</td>\n",
       "      <td>1.75</td>\n",
       "    </tr>\n",
       "    <tr>\n",
       "      <th>3</th>\n",
       "      <td>0.013077</td>\n",
       "      <td>0.986923</td>\n",
       "      <td>3.00</td>\n",
       "    </tr>\n",
       "    <tr>\n",
       "      <th>4</th>\n",
       "      <td>0.924071</td>\n",
       "      <td>0.075929</td>\n",
       "      <td>2.10</td>\n",
       "    </tr>\n",
       "  </tbody>\n",
       "</table>\n",
       "</div>"
      ],
      "text/plain": [
       "   low_prediction  High_prediction  Temp\n",
       "0        0.986511         0.013489  1.75\n",
       "1        0.976762         0.023238  1.70\n",
       "2        0.978676         0.021324  1.75\n",
       "3        0.013077         0.986923  3.00\n",
       "4        0.924071         0.075929  2.10"
      ]
     },
     "execution_count": 359,
     "metadata": {},
     "output_type": "execute_result"
    }
   ],
   "source": [
    "df1 = pd.DataFrame({'low_prediction':low_predict,'High_prediction':high_predict, 'Temp':val_Temp_data})\n",
    "df1.head()"
   ]
  },
  {
   "cell_type": "markdown",
   "metadata": {},
   "source": [
    "For each temperature, determine the average (and standard deviation) output of both neurons in the output layer. \n",
    "Then, plot these averages against the Temperature."
   ]
  },
  {
   "cell_type": "code",
   "execution_count": 360,
   "metadata": {},
   "outputs": [],
   "source": [
    "df2=df1.groupby('Temp').mean()\n",
    "df3=df1.groupby('Temp').std()"
   ]
  },
  {
   "cell_type": "markdown",
   "metadata": {},
   "source": [
    "This plot shows the average output of the final layer for configurations of different temperatures. The temperature at which the curves cross indicate the temperature at which the neural net, on average, switches between classifying a configuration as a \"low\" vs \"high\" temperature phase. This ,ideally, should correspond to the critical temperature of the Ising model. For an infinite square lattice, the theoretical critical temperature for the Ising model is ~2.27. The crossing point in the plot is very close to this value.\n",
    "\n",
    "The model was never given direct information about the temperatures in the dataset, yet it correctly identifies the critical phase transition temperature.\n",
    "\n",
    "Other properties to note are: very little variation in the model prediction far from the critical temperature, and increased variation near the crossing point. This is expected, given that configurations are very simuilar on either side of the switching point. I can likely impove this uncertainty by increasing the size of the validation set, only 200 configurations for each temperature are present in the validation set. In the paper (Carrasquilla, 2017) 10,000 configurations are used for each temperature."
   ]
  },
  {
   "cell_type": "code",
   "execution_count": 361,
   "metadata": {},
   "outputs": [
    {
     "data": {
      "text/plain": [
       "<matplotlib.lines.Line2D at 0x7f50577b25c0>"
      ]
     },
     "execution_count": 361,
     "metadata": {},
     "output_type": "execute_result"
    },
    {
     "data": {
      "image/png": "[encoded data removed]",
      "text/plain": [
       "<Figure size 432x288 with 1 Axes>"
      ]
     },
     "metadata": {
      "needs_background": "light"
     },
     "output_type": "display_data"
    }
   ],
   "source": [
    "df2.plot(marker='o',yerr=df3, title=\"Output layer values for different temperatures\")\n",
    "plt.ylim([0,1])\n",
    "plt.axvline(2.27,c='black', linestyle ='--',lw=2)"
   ]
  },
  {
   "cell_type": "markdown",
   "metadata": {},
   "source": [
    "We can take a look at some of the incorrectly classified examples. Below, I plot configurations that were classified as \"low\" temperature phase, but for which the temperature was >=2.4\n",
    "\n",
    "Configurations that were strongly classified as \"low\" tend to have very small clusters. The ones with larger clusters, are only marginally misclassified (i.e. output for the \"low\"-neuron is ~0.6"
   ]
  },
  {
   "cell_type": "code",
   "execution_count": 362,
   "metadata": {},
   "outputs": [],
   "source": [
    "bad_predictions=[]\n",
    "for i in range(len(val_lbl_data)):\n",
    "    if (low_predict[i]>0.5 and val_Temp_data[i]>=2.4):\n",
    "        bad_predictions.append(i)"
   ]
  },
  {
   "cell_type": "code",
   "execution_count": 363,
   "metadata": {},
   "outputs": [],
   "source": [
    "#bad_predictions\n",
    "#idx=bad_predictions[1]\n",
    "#plt.imshow(val_img_data[idx])\n",
    "#print(val_lbl_data[idx],val_Temp_data[idx],low_predict[idx])"
   ]
  },
  {
   "cell_type": "code",
   "execution_count": 364,
   "metadata": {
    "scrolled": false
   },
   "outputs": [
    {
     "data": {
      "image/png": "[encoded data removed]",
      "text/plain": [
       "<Figure size 720x720 with 15 Axes>"
      ]
     },
     "metadata": {},
     "output_type": "display_data"
    }
   ],
   "source": [
    "# Plot incorrectly classified examples, and show the temperature and output of the \"low\" prediction neuron.\n",
    "plt.figure(figsize=(10,10))\n",
    "for i in range(15):\n",
    "    idx=bad_predictions[i]\n",
    "    plt.subplot(5,5,i+1)\n",
    "    plt.xticks([])\n",
    "    plt.yticks([])\n",
    "    plt.grid(False)\n",
    "    plt.imshow(val_img_data[idx])\n",
    "    plt.xlabel(f'{val_Temp_data[idx]}, {low_predict[idx]:.2f}')"
   ]
  },
  {
   "cell_type": "markdown",
   "metadata": {},
   "source": [
    "## Convolutional Neural Net\n",
    "Now I construct a neural net with two hidden layers. The first is a 2-D convolutional layer with 64 filters, followed by a fully connected layer."
   ]
  },
  {
   "cell_type": "markdown",
   "metadata": {},
   "source": [
    "To prepare the data for the model, need to adjust the padding to account for periodic boundary conditions in the  Monte Carlo simulations.\n",
    "\n",
    "I will be using 2x2 filters in the convolutional layer, so define a function that will add a \"periodic\" padding to the congifuration images. Therefore, the images fed to the model will be 22x22 for simulations of a 20x20 system."
   ]
  },
  {
   "cell_type": "code",
   "execution_count": 380,
   "metadata": {},
   "outputs": [],
   "source": [
    "def periodic_padding(image, padding=1):\n",
    "    '''\n",
    "    Create a periodic padding for an image, to emulate periodic boundary conditions in the simulations.\n",
    "    '''\n",
    "    \n",
    "    upper_pad = image[-padding:,:]\n",
    "    lower_pad = image[:padding,:]\n",
    "    \n",
    "    partial_image = np.concatenate([upper_pad, image, lower_pad], axis=0)\n",
    "    \n",
    "    left_pad = partial_image[:,-padding:]\n",
    "    right_pad = partial_image[:,:padding]\n",
    "    \n",
    "    padded_image = np.concatenate([left_pad, partial_image, right_pad], axis=1)\n",
    "    \n",
    "    return padded_image"
   ]
  },
  {
   "cell_type": "markdown",
   "metadata": {},
   "source": [
    "To visualize what the ```periodic_padding``` function does, plot a sample configuration before and after padding."
   ]
  },
  {
   "cell_type": "code",
   "execution_count": 389,
   "metadata": {
    "scrolled": true
   },
   "outputs": [
    {
     "data": {
      "text/plain": [
       "Text(0.5,1,'20x20 Configuration \\n with periodic padding')"
      ]
     },
     "execution_count": 389,
     "metadata": {},
     "output_type": "execute_result"
    },
    {
     "data": {
      "image/png": "[encoded data removed]",
      "text/plain": [
       "<Figure size 432x216 with 2 Axes>"
      ]
     },
     "metadata": {
      "needs_background": "light"
     },
     "output_type": "display_data"
    }
   ],
   "source": [
    "plt.figure(figsize=(6,3))\n",
    "\n",
    "plt.subplot(1,2,1)\n",
    "plt.imshow(tr_img_data[1])\n",
    "plt.title(\"20x20 Configuration\")\n",
    "plt.subplot(1,2,2)\n",
    "plt.imshow(periodic_padding(tr_img_data[1]))\n",
    "plt.title(\"20x20 Configuration \\n with periodic padding\")\n",
    "#plt.xlabel(f'{val_Temp_data[idx]}, {low_predict[idx]:.2f}')"
   ]
  },
  {
   "cell_type": "markdown",
   "metadata": {},
   "source": [
    "Now, reshape the input data to feed into the CNN."
   ]
  },
  {
   "cell_type": "code",
   "execution_count": 390,
   "metadata": {},
   "outputs": [],
   "source": [
    "tr_img_data = np.array([periodic_padding(i[0]) for i in train_set]).reshape(-1,22,22,1)\n",
    "val_img_data = np.array([periodic_padding(i[0]) for i in valid_set]).reshape(-1,22,22,1)"
   ]
  },
  {
   "cell_type": "markdown",
   "metadata": {},
   "source": [
    "Define the CNN."
   ]
  },
  {
   "cell_type": "code",
   "execution_count": 404,
   "metadata": {},
   "outputs": [],
   "source": [
    "model2 = keras.Sequential([\n",
    "    #keras.layers.Flatten(input_shape=(20, 20)),\n",
    "    # Note the 'valid' padding, we have already manually padded our images. \n",
    "    keras.layers.Conv2D(64, (2, 2), input_shape=(22, 22, 1), padding='valid'),\n",
    "    keras.layers.ReLU(),\n",
    "    \n",
    "    keras.layers.Flatten(),\n",
    "    keras.layers.Dense(64, activation=tf.nn.relu),\n",
    "    #keras.layers.Dropout(0.3),\n",
    "    \n",
    "    keras.layers.Dense(2, activation=tf.nn.softmax)\n",
    "])"
   ]
  },
  {
   "cell_type": "code",
   "execution_count": 405,
   "metadata": {},
   "outputs": [],
   "source": [
    "model2.compile(optimizer=tf.train.AdamOptimizer(learning_rate=0.0005), loss='binary_crossentropy', metrics=['accuracy'])"
   ]
  },
  {
   "cell_type": "markdown",
   "metadata": {},
   "source": [
    "### Train!"
   ]
  },
  {
   "cell_type": "code",
   "execution_count": 406,
   "metadata": {},
   "outputs": [
    {
     "name": "stdout",
     "output_type": "stream",
     "text": [
      "Epoch 1/3\n",
      "30000/30000 [==============================] - 5s 168us/step - loss: 0.1444 - acc: 0.9424\n",
      "Epoch 2/3\n",
      "30000/30000 [==============================] - 2s 56us/step - loss: 0.1152 - acc: 0.9530\n",
      "Epoch 3/3\n",
      "30000/30000 [==============================] - 2s 56us/step - loss: 0.1070 - acc: 0.9558\n"
     ]
    },
    {
     "data": {
      "text/plain": [
       "<tensorflow.python.keras.callbacks.History at 0x7f50569945f8>"
      ]
     },
     "execution_count": 406,
     "metadata": {},
     "output_type": "execute_result"
    }
   ],
   "source": [
    "model2.fit(x=tr_img_data,y=tr_lbl_data, epochs=3,batch_size=128)"
   ]
  },
  {
   "cell_type": "code",
   "execution_count": 407,
   "metadata": {
    "scrolled": true
   },
   "outputs": [
    {
     "name": "stdout",
     "output_type": "stream",
     "text": [
      "6000/6000 [==============================] - 2s 325us/step\n",
      "Test accuracy: 0.9441666666666667\n",
      "Validation loss: 0.13966503473371267\n"
     ]
    }
   ],
   "source": [
    "val_loss, val_acc = model2.evaluate(val_img_data, val_lbl_data)\n",
    "print('Test accuracy:', val_acc)\n",
    "print('Validation loss:', val_loss)"
   ]
  },
  {
   "cell_type": "markdown",
   "metadata": {},
   "source": [
    "We achieve slightly better performance to the single-hidden-layer net above."
   ]
  },
  {
   "cell_type": "code",
   "execution_count": 408,
   "metadata": {},
   "outputs": [],
   "source": [
    "predictions2=model2.predict(val_img_data)\n",
    "\n",
    "low_predict2 = predictions2[:,0]\n",
    "high_predict2 = predictions2[:,1]"
   ]
  },
  {
   "cell_type": "code",
   "execution_count": 409,
   "metadata": {},
   "outputs": [],
   "source": [
    "df4 = pd.DataFrame({'low_prediction':low_predict2,'high_prediction':high_predict2, 'Temp':val_Temp_data})"
   ]
  },
  {
   "cell_type": "markdown",
   "metadata": {},
   "source": [
    "Again, we see that the cross-over temperature is very near the theoretical value (2.27)"
   ]
  },
  {
   "cell_type": "code",
   "execution_count": 411,
   "metadata": {},
   "outputs": [
    {
     "data": {
      "text/plain": [
       "<matplotlib.lines.Line2D at 0x7f5055ed2cc0>"
      ]
     },
     "execution_count": 411,
     "metadata": {},
     "output_type": "execute_result"
    },
    {
     "data": {
      "image/png": "[encoded data removed]",
      "text/plain": [
       "<Figure size 432x288 with 1 Axes>"
      ]
     },
     "metadata": {
      "needs_background": "light"
     },
     "output_type": "display_data"
    }
   ],
   "source": [
    "df5=df4.groupby('Temp').mean()\n",
    "df6=df4.groupby('Temp').std()\n",
    "df5.plot(marker='o',yerr=df6,title=\"Output layer values for different temperatures\")\n",
    "plt.ylim([0,1])\n",
    "plt.axvline(2.27,c='black', linestyle ='--',lw=2)"
   ]
  },
  {
   "cell_type": "markdown",
   "metadata": {},
   "source": [
    "## Test model on triangular lattice simulations\n",
    "To test the predictive power of these neural nets, I use the trained CNN to classify Ising simulations on a triangular lattice. The main difference for a triangular lattice is that the critical phase transition temperature is different from the square lattice. This is because each particle in a triangular lattice has 6 nearest neighbors, as opposed to 4 in a square lattice.\n",
    "\n",
    "Critical Temperature for triangular lattice is ~3.65"
   ]
  },
  {
   "cell_type": "markdown",
   "metadata": {},
   "source": [
    "First load the triangular lattice test data."
   ]
  },
  {
   "cell_type": "code",
   "execution_count": 414,
   "metadata": {},
   "outputs": [],
   "source": [
    "testTri_path = '../../data/Ising/testTri20v2/'"
   ]
  },
  {
   "cell_type": "code",
   "execution_count": 415,
   "metadata": {},
   "outputs": [
    {
     "name": "stderr",
     "output_type": "stream",
     "text": [
      "100%|██████████| 1200/1200 [00:00<00:00, 3787.69it/s]\n",
      "100%|██████████| 800/800 [00:00<00:00, 3806.91it/s]\n"
     ]
    }
   ],
   "source": [
    "testTri_set=data_with_label(testTri_path,'low','high')\n",
    "testTri_img_data = np.array([i[0] for i in testTri_set])\n",
    "testTri_lbl_data = np.array([i[1][0] for i in testTri_set])\n",
    "testTri_Temp_data = np.array([float(i[1][1]) for i in testTri_set])"
   ]
  },
  {
   "cell_type": "code",
   "execution_count": 420,
   "metadata": {},
   "outputs": [],
   "source": [
    "testTri_img_data = np.array([periodic_padding(i[0]) for i in testTri_set]).reshape(-1,22,22,1)"
   ]
  },
  {
   "cell_type": "markdown",
   "metadata": {},
   "source": [
    "Use the trained CNN above to classify the high and low temperature states.\n",
    "\n",
    "I achieve similar accuracy as on the validation set."
   ]
  },
  {
   "cell_type": "code",
   "execution_count": 421,
   "metadata": {},
   "outputs": [
    {
     "name": "stdout",
     "output_type": "stream",
     "text": [
      "2000/2000 [==============================] - 0s 103us/step\n",
      "Test accuracy: 0.935\n",
      "Test loss: 0.15101802080869675\n"
     ]
    }
   ],
   "source": [
    "test_loss, test_acc = model2.evaluate(testTri_img_data, testTri_lbl_data)\n",
    "print('Test accuracy:', test_acc)\n",
    "print('Test loss:', test_loss)"
   ]
  },
  {
   "cell_type": "markdown",
   "metadata": {},
   "source": [
    "Next, I determine the critical phase transition temperature."
   ]
  },
  {
   "cell_type": "code",
   "execution_count": 422,
   "metadata": {},
   "outputs": [],
   "source": [
    "predictions3=model2.predict(testTri_img_data)\n",
    "\n",
    "low_predict3 = predictions3[:,0]\n",
    "high_predict3 = predictions3[:,1]"
   ]
  },
  {
   "cell_type": "code",
   "execution_count": 423,
   "metadata": {},
   "outputs": [],
   "source": [
    "dfT1 = pd.DataFrame({'low_prediction':low_predict3,'high_prediction':high_predict3, 'Temp':testTri_Temp_data})\n"
   ]
  },
  {
   "cell_type": "code",
   "execution_count": 424,
   "metadata": {
    "scrolled": true
   },
   "outputs": [
    {
     "data": {
      "text/plain": [
       "<matplotlib.lines.Line2D at 0x7f5055d33940>"
      ]
     },
     "execution_count": 424,
     "metadata": {},
     "output_type": "execute_result"
    },
    {
     "data": {
      "image/png": "[encoded data removed]",
      "text/plain": [
       "<Figure size 432x288 with 1 Axes>"
      ]
     },
     "metadata": {
      "needs_background": "light"
     },
     "output_type": "display_data"
    }
   ],
   "source": [
    "dfT2=dfT1.groupby('Temp').mean()\n",
    "dfT3=dfT1.groupby('Temp').std()\n",
    "dfT2.plot(marker='o',yerr=dfT3,title=\"Output layer values for triangular lattice\")\n",
    "plt.ylim([0,1])\n",
    "plt.axvline(3.64,c='black', linestyle ='--',lw=2)"
   ]
  },
  {
   "cell_type": "markdown",
   "metadata": {},
   "source": [
    "The predicted crossing point is indeed very closs to the theoretical value of 3.64 !"
   ]
  },
  {
   "cell_type": "markdown",
   "metadata": {},
   "source": [
    "## Larger Ising system\n",
    "Now I consider a larger, 40x40 system and perform the same steps as above, to examine how the neural net performance changes with system size."
   ]
  },
  {
   "cell_type": "markdown",
   "metadata": {},
   "source": [
    "### Single-hidden layer NN"
   ]
  },
  {
   "cell_type": "code",
   "execution_count": 425,
   "metadata": {},
   "outputs": [],
   "source": [
    "train_path = '../../data/Ising/train40v2/'\n",
    "valid_path = '../../data/Ising/valid40v2/'\n",
    "test_path = '../../data/Ising/testTri40v2/'"
   ]
  },
  {
   "cell_type": "code",
   "execution_count": 426,
   "metadata": {
    "scrolled": false
   },
   "outputs": [
    {
     "name": "stderr",
     "output_type": "stream",
     "text": [
      "100%|██████████| 7000/7000 [00:01<00:00, 3837.98it/s]\n",
      "100%|██████████| 8000/8000 [00:02<00:00, 3847.30it/s]\n",
      "100%|██████████| 4200/4200 [00:01<00:00, 3788.90it/s]\n",
      "100%|██████████| 4800/4800 [00:01<00:00, 3821.24it/s]\n"
     ]
    }
   ],
   "source": [
    "train_set=data_with_label(train_path,'low','high')\n",
    "valid_set=data_with_label(valid_path,'low','high')"
   ]
  },
  {
   "cell_type": "code",
   "execution_count": 427,
   "metadata": {},
   "outputs": [],
   "source": [
    "tr_img_data = np.array([i[0] for i in train_set])\n",
    "tr_lbl_data = np.array([i[1][0] for i in train_set])\n",
    "tr_Temp_data = np.array([i[1][1] for i in train_set])\n",
    "val_img_data = np.array([i[0] for i in valid_set])\n",
    "val_lbl_data = np.array([i[1][0] for i in valid_set])\n",
    "val_Temp_data = np.array([float(i[1][1]) for i in valid_set])"
   ]
  },
  {
   "cell_type": "raw",
   "metadata": {},
   "source": [
    "Take a look at a few samples for the larger system size.\n",
    "\n",
    "For the larger system, the variation in cluster size with temperature is more visually apparent."
   ]
  },
  {
   "cell_type": "code",
   "execution_count": 429,
   "metadata": {},
   "outputs": [
    {
     "data": {
      "image/png": "[encoded data removed]",
      "text/plain": [
       "<Figure size 720x720 with 16 Axes>"
      ]
     },
     "metadata": {},
     "output_type": "display_data"
    }
   ],
   "source": [
    "plt.figure(figsize=(10,10))\n",
    "for i in range(16):\n",
    "    #idx=bad_predictions[i]\n",
    "    plt.subplot(4,4,i+1)\n",
    "    plt.xticks([])\n",
    "    plt.yticks([])\n",
    "    plt.grid(False)\n",
    "    plt.imshow(tr_img_data[i])\n",
    "    if tr_lbl_data[i][0] == 1:\n",
    "        label = \"Low\"\n",
    "    elif tr_lbl_data[i][1] == 1:\n",
    "        label = \"High\"\n",
    "    plt.xlabel(f'{label}, {tr_Temp_data[i]}')"
   ]
  },
  {
   "cell_type": "markdown",
   "metadata": {},
   "source": [
    "## Single hidden layer NN \n",
    "First, create the neural net with a single 100-unit hidden for the larger system, and add a dropout layer to help with over fitting."
   ]
  },
  {
   "cell_type": "code",
   "execution_count": 453,
   "metadata": {},
   "outputs": [],
   "source": [
    "model3 = keras.Sequential([\n",
    "    keras.layers.Flatten(input_shape=(40, 40)),\n",
    "    keras.layers.Dense(100, activation=tf.nn.sigmoid),\n",
    "    keras.layers.Dropout(0.3),\n",
    "    keras.layers.Dense(2, activation=tf.nn.softmax)\n",
    "])"
   ]
  },
  {
   "cell_type": "code",
   "execution_count": 454,
   "metadata": {},
   "outputs": [],
   "source": [
    "model3.compile(optimizer=tf.train.AdamOptimizer(learning_rate=0.001), loss='binary_crossentropy', metrics=['accuracy'])"
   ]
  },
  {
   "cell_type": "code",
   "execution_count": 455,
   "metadata": {
    "scrolled": true
   },
   "outputs": [
    {
     "name": "stdout",
     "output_type": "stream",
     "text": [
      "Epoch 1/15\n",
      "15000/15000 [==============================] - 4s 288us/step - loss: 0.7641 - acc: 0.5225\n",
      "Epoch 2/15\n",
      "15000/15000 [==============================] - 1s 44us/step - loss: 0.6640 - acc: 0.6024\n",
      "Epoch 3/15\n",
      "15000/15000 [==============================] - 1s 46us/step - loss: 0.5931 - acc: 0.6763\n",
      "Epoch 4/15\n",
      "15000/15000 [==============================] - 1s 46us/step - loss: 0.5245 - acc: 0.7412\n",
      "Epoch 5/15\n",
      "15000/15000 [==============================] - 1s 47us/step - loss: 0.4539 - acc: 0.7981\n",
      "Epoch 6/15\n",
      "15000/15000 [==============================] - 1s 46us/step - loss: 0.3795 - acc: 0.8433\n",
      "Epoch 7/15\n",
      "15000/15000 [==============================] - 1s 47us/step - loss: 0.3189 - acc: 0.8799\n",
      "Epoch 8/15\n",
      "15000/15000 [==============================] - 1s 46us/step - loss: 0.2615 - acc: 0.9056\n",
      "Epoch 9/15\n",
      "15000/15000 [==============================] - 1s 46us/step - loss: 0.2271 - acc: 0.9181\n",
      "Epoch 10/15\n",
      "15000/15000 [==============================] - 1s 47us/step - loss: 0.1945 - acc: 0.9335\n",
      "Epoch 11/15\n",
      "15000/15000 [==============================] - 1s 46us/step - loss: 0.1634 - acc: 0.9475\n",
      "Epoch 12/15\n",
      "15000/15000 [==============================] - 1s 48us/step - loss: 0.1460 - acc: 0.9531\n",
      "Epoch 13/15\n",
      "15000/15000 [==============================] - 1s 47us/step - loss: 0.1320 - acc: 0.9569\n",
      "Epoch 14/15\n",
      "15000/15000 [==============================] - 1s 47us/step - loss: 0.1241 - acc: 0.9591\n",
      "Epoch 15/15\n",
      "15000/15000 [==============================] - 1s 48us/step - loss: 0.1102 - acc: 0.9635\n"
     ]
    },
    {
     "data": {
      "text/plain": [
       "<tensorflow.python.keras.callbacks.History at 0x7f50537bcb38>"
      ]
     },
     "execution_count": 455,
     "metadata": {},
     "output_type": "execute_result"
    }
   ],
   "source": [
    "model3.fit(x=tr_img_data,y=tr_lbl_data, epochs=15,batch_size=128)"
   ]
  },
  {
   "cell_type": "markdown",
   "metadata": {},
   "source": [
    "Evaluate the model performance on the validation set.\n",
    "For the larger system, I use a smaller dataset (larger Ising systems take a longer time to simulate). Yet, I achieve a better accuracy and lower validation loss."
   ]
  },
  {
   "cell_type": "code",
   "execution_count": 456,
   "metadata": {},
   "outputs": [
    {
     "name": "stdout",
     "output_type": "stream",
     "text": [
      "9000/9000 [==============================] - 2s 272us/step\n",
      "Validation accuracy: 0.96\n",
      "Validation loss: 0.12148429834842682\n"
     ]
    }
   ],
   "source": [
    "val_loss, val_acc = model3.evaluate(val_img_data, val_lbl_data,)\n",
    "print('Validation accuracy:', val_acc)\n",
    "print('Validation loss:', val_loss)"
   ]
  },
  {
   "cell_type": "markdown",
   "metadata": {},
   "source": [
    "## Critical temperature"
   ]
  },
  {
   "cell_type": "code",
   "execution_count": 457,
   "metadata": {},
   "outputs": [],
   "source": [
    "predictions=model3.predict(val_img_data)\n",
    "\n",
    "low_predict = predictions[:,0]\n",
    "high_predict = predictions[:,1]"
   ]
  },
  {
   "cell_type": "markdown",
   "metadata": {},
   "source": [
    "Now combine the temperature of the simulations with their predicted phase."
   ]
  },
  {
   "cell_type": "code",
   "execution_count": 460,
   "metadata": {
    "scrolled": true
   },
   "outputs": [
    {
     "data": {
      "text/html": [
       "<div>\n",
       "<style scoped>\n",
       "    .dataframe tbody tr th:only-of-type {\n",
       "        vertical-align: middle;\n",
       "    }\n",
       "\n",
       "    .dataframe tbody tr th {\n",
       "        vertical-align: top;\n",
       "    }\n",
       "\n",
       "    .dataframe thead th {\n",
       "        text-align: right;\n",
       "    }\n",
       "</style>\n",
       "<table border=\"1\" class=\"dataframe\">\n",
       "  <thead>\n",
       "    <tr style=\"text-align: right;\">\n",
       "      <th></th>\n",
       "      <th>low_prediction</th>\n",
       "      <th>High_prediction</th>\n",
       "      <th>Temp</th>\n",
       "    </tr>\n",
       "  </thead>\n",
       "  <tbody>\n",
       "    <tr>\n",
       "      <th>0</th>\n",
       "      <td>0.974825</td>\n",
       "      <td>0.025175</td>\n",
       "      <td>1.60</td>\n",
       "    </tr>\n",
       "    <tr>\n",
       "      <th>1</th>\n",
       "      <td>0.984733</td>\n",
       "      <td>0.015267</td>\n",
       "      <td>1.85</td>\n",
       "    </tr>\n",
       "    <tr>\n",
       "      <th>2</th>\n",
       "      <td>0.954514</td>\n",
       "      <td>0.045486</td>\n",
       "      <td>1.85</td>\n",
       "    </tr>\n",
       "    <tr>\n",
       "      <th>3</th>\n",
       "      <td>0.938920</td>\n",
       "      <td>0.061080</td>\n",
       "      <td>2.15</td>\n",
       "    </tr>\n",
       "    <tr>\n",
       "      <th>4</th>\n",
       "      <td>0.033825</td>\n",
       "      <td>0.966175</td>\n",
       "      <td>2.55</td>\n",
       "    </tr>\n",
       "  </tbody>\n",
       "</table>\n",
       "</div>"
      ],
      "text/plain": [
       "   low_prediction  High_prediction  Temp\n",
       "0        0.974825         0.025175  1.60\n",
       "1        0.984733         0.015267  1.85\n",
       "2        0.954514         0.045486  1.85\n",
       "3        0.938920         0.061080  2.15\n",
       "4        0.033825         0.966175  2.55"
      ]
     },
     "execution_count": 460,
     "metadata": {},
     "output_type": "execute_result"
    }
   ],
   "source": [
    "df1_40 = pd.DataFrame({'low_prediction':low_predict,'High_prediction':high_predict, 'Temp':val_Temp_data})\n",
    "df1_40.head()"
   ]
  },
  {
   "cell_type": "code",
   "execution_count": 461,
   "metadata": {},
   "outputs": [],
   "source": [
    "df2_40=df1_40.groupby('Temp').mean()\n",
    "df3_40=df1_40.groupby('Temp').std()"
   ]
  },
  {
   "cell_type": "markdown",
   "metadata": {},
   "source": [
    "Intestingly, the variation in the preditions for the high temperature phases is larger, but overall the variation near the crossover point is smaller. And, the predition of the critical temperature is close to the theoretical value."
   ]
  },
  {
   "cell_type": "code",
   "execution_count": 463,
   "metadata": {},
   "outputs": [
    {
     "data": {
      "text/plain": [
       "<matplotlib.lines.Line2D at 0x7f505324ac18>"
      ]
     },
     "execution_count": 463,
     "metadata": {},
     "output_type": "execute_result"
    },
    {
     "data": {
      "image/png": "[encoded data removed]",
      "text/plain": [
       "<Figure size 432x288 with 1 Axes>"
      ]
     },
     "metadata": {
      "needs_background": "light"
     },
     "output_type": "display_data"
    }
   ],
   "source": [
    "df2_40.plot(marker='o',yerr=df3_40, title=\"Output layer values for different temperatures\")\n",
    "plt.ylim([0,1])\n",
    "plt.axvline(2.27,c='black', linestyle ='--',lw=2)"
   ]
  },
  {
   "cell_type": "code",
   "execution_count": null,
   "metadata": {},
   "outputs": [],
   "source": []
  },
  {
   "cell_type": "markdown",
   "metadata": {},
   "source": [
    "## CNN for larger system\n",
    "Now I construct a neural net for the 40x40 system."
   ]
  },
  {
   "cell_type": "code",
   "execution_count": 464,
   "metadata": {},
   "outputs": [],
   "source": [
    "tr_img_data = np.array([periodic_padding(i[0]) for i in train_set]).reshape(-1,42,42,1)\n",
    "val_img_data = np.array([periodic_padding(i[0]) for i in valid_set]).reshape(-1,42,42,1)"
   ]
  },
  {
   "cell_type": "markdown",
   "metadata": {},
   "source": [
    "Define the CNN.\n",
    "Now added a dropout layer to reduce overfitting."
   ]
  },
  {
   "cell_type": "code",
   "execution_count": 500,
   "metadata": {},
   "outputs": [],
   "source": [
    "model4 = keras.Sequential([\n",
    "    #keras.layers.Flatten(input_shape=(20, 20)),\n",
    "    # Note the 'valid' padding, we have already manually padded our images. \n",
    "    keras.layers.Conv2D(64, (2, 2), input_shape=(42, 42, 1), padding='valid'),\n",
    "    keras.layers.ReLU(),\n",
    "    \n",
    "    keras.layers.Flatten(),\n",
    "    keras.layers.Dense(64, activation=tf.nn.relu),\n",
    "    keras.layers.Dropout(0.3),\n",
    "    \n",
    "    keras.layers.Dense(2, activation=tf.nn.softmax)\n",
    "])"
   ]
  },
  {
   "cell_type": "code",
   "execution_count": 501,
   "metadata": {},
   "outputs": [],
   "source": [
    "model4.compile(optimizer=tf.train.AdamOptimizer(learning_rate=0.0005), loss='binary_crossentropy', metrics=['accuracy'])"
   ]
  },
  {
   "cell_type": "markdown",
   "metadata": {},
   "source": [
    "### Train!"
   ]
  },
  {
   "cell_type": "code",
   "execution_count": 502,
   "metadata": {},
   "outputs": [
    {
     "name": "stdout",
     "output_type": "stream",
     "text": [
      "Epoch 1/3\n",
      "15000/15000 [==============================] - 7s 436us/step - loss: 0.1295 - acc: 0.9611\n",
      "Epoch 2/3\n",
      "15000/15000 [==============================] - 2s 138us/step - loss: 0.0529 - acc: 0.9795\n",
      "Epoch 3/3\n",
      "15000/15000 [==============================] - 2s 136us/step - loss: 0.0379 - acc: 0.9855\n"
     ]
    },
    {
     "data": {
      "text/plain": [
       "<tensorflow.python.keras.callbacks.History at 0x7f504f9a9320>"
      ]
     },
     "execution_count": 502,
     "metadata": {},
     "output_type": "execute_result"
    }
   ],
   "source": [
    "model4.fit(x=tr_img_data,y=tr_lbl_data, epochs=3,batch_size=128)"
   ]
  },
  {
   "cell_type": "code",
   "execution_count": 503,
   "metadata": {
    "scrolled": true
   },
   "outputs": [
    {
     "name": "stdout",
     "output_type": "stream",
     "text": [
      "9000/9000 [==============================] - 3s 364us/step\n",
      "Test accuracy: 0.9748888888888889\n",
      "Validation loss: 0.06636069121674841\n"
     ]
    }
   ],
   "source": [
    "val_loss, val_acc = model4.evaluate(val_img_data, val_lbl_data)\n",
    "print('Test accuracy:', val_acc)\n",
    "print('Validation loss:', val_loss)"
   ]
  },
  {
   "cell_type": "markdown",
   "metadata": {},
   "source": [
    "This model is now showing excellent performance!"
   ]
  },
  {
   "cell_type": "code",
   "execution_count": 504,
   "metadata": {},
   "outputs": [],
   "source": [
    "predictions4=model4.predict(val_img_data)\n",
    "\n",
    "low_predict4 = predictions4[:,0]\n",
    "high_predict4 = predictions4[:,1]"
   ]
  },
  {
   "cell_type": "code",
   "execution_count": 505,
   "metadata": {},
   "outputs": [],
   "source": [
    "df4_40 = pd.DataFrame({'low_prediction':low_predict4,'high_prediction':high_predict4, 'Temp':val_Temp_data})"
   ]
  },
  {
   "cell_type": "markdown",
   "metadata": {},
   "source": [
    "Now the overall variances and prediction of the crossover temperature are much improved."
   ]
  },
  {
   "cell_type": "code",
   "execution_count": 506,
   "metadata": {},
   "outputs": [
    {
     "data": {
      "text/plain": [
       "<matplotlib.lines.Line2D at 0x7f504f4b45c0>"
      ]
     },
     "execution_count": 506,
     "metadata": {},
     "output_type": "execute_result"
    },
    {
     "data": {
      "image/png": "[encoded data removed]",
      "text/plain": [
       "<Figure size 432x288 with 1 Axes>"
      ]
     },
     "metadata": {
      "needs_background": "light"
     },
     "output_type": "display_data"
    }
   ],
   "source": [
    "df5_40=df4_40.groupby('Temp').mean()\n",
    "df6_40=df4_40.groupby('Temp').std()\n",
    "df5_40.plot(marker='o',yerr=df6,title=\"Output layer values for different temperatures\")\n",
    "plt.ylim([0,1])\n",
    "plt.axvline(2.27,c='black', linestyle ='--',lw=2)"
   ]
  },
  {
   "cell_type": "markdown",
   "metadata": {},
   "source": [
    "## Test model on triangular lattice simulations\n",
    "Now test the CNN trained on the larger system on a 40x40 Triangular lattice.\n",
    "\n",
    "Critical Temperature for triangular lattice is ~3.65"
   ]
  },
  {
   "cell_type": "code",
   "execution_count": 507,
   "metadata": {},
   "outputs": [],
   "source": [
    "testTri_path = '../../data/Ising/testTri40v2/'"
   ]
  },
  {
   "cell_type": "code",
   "execution_count": 508,
   "metadata": {},
   "outputs": [
    {
     "name": "stderr",
     "output_type": "stream",
     "text": [
      "100%|██████████| 2400/2400 [00:00<00:00, 3832.43it/s]\n",
      "100%|██████████| 1600/1600 [00:00<00:00, 3832.04it/s]\n"
     ]
    }
   ],
   "source": [
    "testTri_set=data_with_label(testTri_path,'low','high')\n",
    "testTri_img_data = np.array([i[0] for i in testTri_set])\n",
    "testTri_lbl_data = np.array([i[1][0] for i in testTri_set])\n",
    "testTri_Temp_data = np.array([float(i[1][1]) for i in testTri_set])"
   ]
  },
  {
   "cell_type": "code",
   "execution_count": 509,
   "metadata": {},
   "outputs": [],
   "source": [
    "testTri_img_data = np.array([periodic_padding(i[0]) for i in testTri_set]).reshape(-1,42,42,1)"
   ]
  },
  {
   "cell_type": "code",
   "execution_count": 510,
   "metadata": {},
   "outputs": [
    {
     "name": "stdout",
     "output_type": "stream",
     "text": [
      "4000/4000 [==============================] - 1s 163us/step\n",
      "Test accuracy: 0.96925\n",
      "Test loss: 0.08572318196902051\n"
     ]
    }
   ],
   "source": [
    "test_loss, test_acc = model4.evaluate(testTri_img_data, testTri_lbl_data)\n",
    "print('Test accuracy:', test_acc)\n",
    "print('Test loss:', test_loss)"
   ]
  },
  {
   "cell_type": "markdown",
   "metadata": {},
   "source": [
    "Next, I determine the critical phase transition temperature."
   ]
  },
  {
   "cell_type": "code",
   "execution_count": 512,
   "metadata": {},
   "outputs": [],
   "source": [
    "predictions5=model4.predict(testTri_img_data)\n",
    "\n",
    "low_predict5 = predictions5[:,0]\n",
    "high_predict5 = predictions5[:,1]"
   ]
  },
  {
   "cell_type": "code",
   "execution_count": 513,
   "metadata": {},
   "outputs": [],
   "source": [
    "dfT1_40 = pd.DataFrame({'low_prediction':low_predict5,'high_prediction':high_predict5, 'Temp':testTri_Temp_data})\n"
   ]
  },
  {
   "cell_type": "code",
   "execution_count": 514,
   "metadata": {
    "scrolled": true
   },
   "outputs": [
    {
     "data": {
      "text/plain": [
       "<matplotlib.lines.Line2D at 0x7f5055dd2f60>"
      ]
     },
     "execution_count": 514,
     "metadata": {},
     "output_type": "execute_result"
    },
    {
     "data": {
      "image/png": "[encoded data removed]",
      "text/plain": [
       "<Figure size 432x288 with 1 Axes>"
      ]
     },
     "metadata": {
      "needs_background": "light"
     },
     "output_type": "display_data"
    }
   ],
   "source": [
    "dfT2_40=dfT1.groupby('Temp').mean()\n",
    "dfT3_40=dfT1.groupby('Temp').std()\n",
    "dfT2_40.plot(marker='o',yerr=dfT3_40,title=\"Output layer values for triangular lattice\")\n",
    "plt.ylim([0,1])\n",
    "plt.axvline(3.64,c='black', linestyle ='--',lw=2)"
   ]
  },
  {
   "cell_type": "markdown",
   "metadata": {},
   "source": [
    "Overall, we see better performance of the neural nets for the larger system size. This is not surprising given that patterns more obviously emerge for the larger system. This is also in agreement with the finding of the paper!"
   ]
  },
  {
   "cell_type": "code",
   "execution_count": null,
   "metadata": {},
   "outputs": [],
   "source": []
  }
 ],
 "metadata": {
  "kernelspec": {
   "display_name": "Python 3",
   "language": "python",
   "name": "python3"
  }
 },
 "nbformat": 4,
 "nbformat_minor": 2
}
