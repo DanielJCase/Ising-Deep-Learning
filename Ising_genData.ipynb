{
 "cells": [
  {
   "cell_type": "markdown",
   "metadata": {},
   "source": [
    "## Ising Model Data Generation\n",
    "Here, we generate our training, validation, and test set data. We perform Monte Carlo simulations of the 2-D Ising model for different temperatures and save the output. \n",
    "\n",
    "Each sample is saved as a .npy (binary numpy file), and consists of an $L$x$L$ matrix of $1$ and $-1$, indicating spin-up and spin-down, respectively."
   ]
  },
  {
   "cell_type": "code",
   "execution_count": 1,
   "metadata": {},
   "outputs": [],
   "source": [
    "import numpy as np\n",
    "import matplotlib.pyplot as plt\n",
    "import os\n",
    "from tqdm import tqdm\n",
    "import multiprocessing as mp\n",
    "from itertools import repeat\n",
    "%matplotlib inline"
   ]
  },
  {
   "cell_type": "markdown",
   "metadata": {},
   "source": [
    "Set the save locations for each of the data sets."
   ]
  },
  {
   "cell_type": "code",
   "execution_count": 2,
   "metadata": {},
   "outputs": [],
   "source": [
    "train_data = '../../data/Ising/train/'\n",
    "test_data = '../../data/Ising/test/'\n",
    "valid_data = '../../data/Ising/valid/'"
   ]
  },
  {
   "cell_type": "markdown",
   "metadata": {},
   "source": [
    "Function to create and randomly fill an $L$x$L$ array. "
   ]
  },
  {
   "cell_type": "code",
   "execution_count": 3,
   "metadata": {},
   "outputs": [],
   "source": [
    "def createArray(L):\n",
    "    mat = np.random.randint(0,2,size=(L,L), dtype=int)\n",
    "    mat[mat==0] = -1  \n",
    "    return mat"
   ]
  },
  {
   "cell_type": "code",
   "execution_count": 5,
   "metadata": {},
   "outputs": [],
   "source": [
    "def iterate(mat,T,calcE):\n",
    "    L,_ = mat.shape\n",
    "      \n",
    "    order1 = np.arange(L)\n",
    "    order2 = np.arange(L)\n",
    "    np.random.shuffle(order1)\n",
    "    np.random.shuffle(order2)\n",
    "    avgE = 0.0\n",
    "    for i in order1:\n",
    "        for j in order2:\n",
    "            spin_current = mat[i,j]\n",
    "            spin_potential = spin_current*(-1)\n",
    "            neighbor_sum = mat[(i+1)%L,j]+mat[(i-1)%L,j]+mat[i,(j+1)%L]+mat[i,(j-1)%L]\n",
    "            E_current = -spin_current*neighbor_sum\n",
    "            E_potential = -spin_potential*neighbor_sum\n",
    "            E_diff = E_potential - E_current\n",
    "            if E_diff < 0:\n",
    "                mat[i,j] = spin_potential\n",
    "            elif np.random.random()<= np.exp(-float(E_diff)/T):\n",
    "                mat[i,j] = spin_potential\n",
    "    if calcE:        \n",
    "        for i in order1:\n",
    "            for j in range(0,L):\n",
    "                spin_final = mat[i,j]\n",
    "                E_final = -spin_final*neighbor_sum\n",
    "                avgE+=float(E_final)\n",
    "    \n",
    "        avgE/=float(L**2)                   \n",
    "        return avgE\n",
    "    #else:\n",
    "    #    return updateMat\n",
    "            "
   ]
  },
  {
   "cell_type": "code",
   "execution_count": 4,
   "metadata": {},
   "outputs": [],
   "source": [
    "def flipCluster(mat,cluster):\n",
    "    for pair in cluster:\n",
    "        i,j=pair\n",
    "        mat[i,j]*=-1"
   ]
  },
  {
   "cell_type": "code",
   "execution_count": 5,
   "metadata": {},
   "outputs": [],
   "source": [
    "def iterateWolff(mat,T,calcE):\n",
    "    L,_ = mat.shape\n",
    "    tracker = np.zeros((L,L))\n",
    "    \n",
    "    i,j = np.random.randint(0,L,size=2)\n",
    "    spin = mat[i,j]\n",
    "    stack = [(i,j)]\n",
    "    tracker[i,j]=1\n",
    "    \n",
    "    cluster = [(i,j)]\n",
    "    while len(stack)>0:\n",
    "        i,j = stack.pop()\n",
    "        neighbors = [(i,(j+1)%L),(i,(j-1)%L),((i+1)%L,j),((i-1)%L,j)]\n",
    "        for pair in neighbors:\n",
    "            l,m = pair\n",
    "            if (mat[l,m]==spin and tracker[l,m]==0 and np.random.random()< (1.0-np.exp(-2.0/T))):\n",
    "                cluster.append((l,m))\n",
    "                stack.append((l,m))\n",
    "                tracker[l,m]=1\n",
    "            \n",
    "    flipCluster(mat,cluster)\n",
    "            \n",
    "    if calcE:\n",
    "        avgE=0.0\n",
    "        for i in range(L):\n",
    "            for j in range(L):\n",
    "                spin_final = mat[i,j]\n",
    "                neighbor_sum = mat[(i+1)%L,j]+mat[(i-1)%L,j]+mat[i,(j+1)%L]+mat[i,(j-1)%L]\n",
    "                E_final = -spin_final*neighbor_sum\n",
    "                avgE+=float(E_final)\n",
    "    \n",
    "        avgE/=float(L**2)                   \n",
    "        return avgE\n",
    "    #else:\n",
    "    #    return updateMat\n",
    "            "
   ]
  },
  {
   "cell_type": "code",
   "execution_count": 8,
   "metadata": {},
   "outputs": [],
   "source": [
    "#Iterate function for triangular lattice \n",
    "def iterateTri(mat,T,calcE):\n",
    "    n,_ = mat.shape\n",
    "    N = n-2\n",
    "    \n",
    "    order1 = np.arange(1,N+1)\n",
    "    order2 = np.arange(1,N+1)\n",
    "    np.random.shuffle(order1)\n",
    "    np.random.shuffle(order2)\n",
    "    \n",
    "    updateMat=mat\n",
    "    avgE = 0.0\n",
    "    for i in order1:\n",
    "        for j in order2:\n",
    "            spin_current = mat[i,j]\n",
    "            spin_potential = spin_current*(-1)\n",
    "            E_current = -spin_current*(mat[i+1,j]+mat[i-1,j]+mat[i,j+1]+mat[i,j-1]+mat[i+1,j+1]+mat[i-1,j-1])\n",
    "            E_potential = -spin_potential*(mat[i+1,j]+mat[i-1,j]+mat[i,j+1]+mat[i,j-1]+mat[i+1,j+1]+mat[i-1,j-1])\n",
    "            E_diff = E_potential - E_current\n",
    "            if E_diff < 0:\n",
    "                updateMat[i,j] = spin_potential\n",
    "                #avgE+=float(E_potential)\n",
    "            elif np.random.random()<= np.exp(-float(E_diff)/T):\n",
    "                updateMat[i,j] = spin_potential\n",
    "                #avgE+=float(E_potential)\n",
    "            #else:\n",
    "                #avgE+=float(E_current)\n",
    "            updateMat[:,0] = updateMat[:,N]\n",
    "            updateMat[:,N+1] = updateMat[:,1]\n",
    "    \n",
    "            updateMat[0,:] = updateMat[N,:]\n",
    "            updateMat[N+1,:] = updateMat[1,:]\n",
    "\n",
    "    if calcE:        \n",
    "        for i in order1:\n",
    "            for j in range(1,N+1):\n",
    "                spin_final = mat[i,j]\n",
    "                E_final = -spin_final*(mat[i+1,j]+mat[i-1,j]+mat[i,j+1]+mat[i,j-1])\n",
    "                avgE+=float(E_final)\n",
    "    \n",
    "        avgE/=float(N**2)                   \n",
    "        return updateMat, avgE\n",
    "    else:\n",
    "        return updateMat"
   ]
  },
  {
   "cell_type": "code",
   "execution_count": 6,
   "metadata": {},
   "outputs": [],
   "source": [
    "def iterateWolffTri(mat,T,calcE):\n",
    "    L,_ = mat.shape\n",
    "    tracker = np.zeros((L,L))\n",
    "    \n",
    "    i,j = np.random.randint(0,L,size=2)\n",
    "    spin = mat[i,j]\n",
    "    stack = [(i,j)]\n",
    "    tracker[i,j]=1\n",
    "    \n",
    "    cluster = [(i,j)]\n",
    "    while len(stack)>0:\n",
    "        i,j = stack.pop()\n",
    "        neighbors = [(i,(j+1)%L),(i,(j-1)%L),((i+1)%L,j),((i-1)%L,j),((i+1)%L,(j+1)%L),((i-1)%L,(j-1)%L)]\n",
    "        for pair in neighbors:\n",
    "            l,m = pair\n",
    "            if (mat[l,m]==spin and tracker[l,m]==0 and np.random.random()< (1.0-np.exp(-2.0/T))):\n",
    "                cluster.append((l,m))\n",
    "                stack.append((l,m))\n",
    "                tracker[l,m]=1\n",
    "            \n",
    "    flipCluster(mat,cluster)\n",
    "            \n",
    "    if calcE:\n",
    "        avgE=0.0\n",
    "        for i in range(L):\n",
    "            for j in range(L):\n",
    "                spin_final = mat[i,j]\n",
    "                neighbor_sum = mat[(i+1)%L,j]+mat[(i-1)%L,j]+mat[i,(j+1)%L]+mat[i,(j-1)%L]+mat[(i+1)%L,(j+1)%L]+mat[(i-1)%L,(j-1)%L]\n",
    "                E_final = -spin_final*neighbor_sum\n",
    "                avgE+=float(E_final)\n",
    "    \n",
    "        avgE/=float(L**2)                   \n",
    "        return avgE"
   ]
  },
  {
   "cell_type": "code",
   "execution_count": 7,
   "metadata": {},
   "outputs": [],
   "source": [
    "def calcCorr(mat, L, dist):\n",
    "    # Calculate the correlation function for r = dist\n",
    "    # dist should be less than L/2\n",
    "    # Samples from the diagonal\n",
    "    products1 = 0\n",
    "    avg1 = 0\n",
    "    avg2 = 0\n",
    "    for i in range(L):\n",
    "        for j in range(L):\n",
    "            idx1 = (i+dist)%L\n",
    "            idx2 = (i-dist)%L\n",
    "            idx3 = (j+dist)%L\n",
    "            idx4 = (j-dist)%L\n",
    "            products1 += mat[i,j]*(mat[i,idx3] + mat[idx1,j] + mat[i,idx4] + mat[idx2,j])\n",
    "            avg1 += mat[i,j]\n",
    "            avg2 += (mat[i,idx3] + mat[idx1,j] + mat[i,idx4] + mat[idx2,j])\n",
    "        \n",
    "    products1/=(4.0*L*L)\n",
    "    avg1/= float(L*L)\n",
    "    avg2/= (4.0*L*L)\n",
    "    corrFunc = products1 - avg1*avg1\n",
    "    return dist, corrFunc"
   ]
  },
  {
   "cell_type": "code",
   "execution_count": 8,
   "metadata": {},
   "outputs": [],
   "source": [
    "def corrLength(corrs):\n",
    "    dist = np.arange(1,len(corrs)+1,dtype=float)\n",
    "    m,b = np.polyfit(dist,np.log(corrs),1)\n",
    "    \n",
    "    length = -1.0/m\n",
    "    return length"
   ]
  },
  {
   "cell_type": "code",
   "execution_count": 9,
   "metadata": {},
   "outputs": [],
   "source": [
    "def simulate(mat,T,steps):\n",
    "    #Runs MC for number of steps\n",
    "    calcE=False\n",
    "    for step in range(steps):\n",
    "        #iterate(mat,T,calcE)\n",
    "        iterateWolff(mat,T,calcE)"
   ]
  },
  {
   "cell_type": "code",
   "execution_count": 10,
   "metadata": {},
   "outputs": [],
   "source": [
    "def simulateTri(mat,T,steps):\n",
    "    #Runs MC for number of steps\n",
    "    calcE=False\n",
    "    for step in range(steps):\n",
    "        #iterate(mat,T,calcE)\n",
    "        iterateWolffTri(mat,T,calcE)"
   ]
  },
  {
   "cell_type": "code",
   "execution_count": 11,
   "metadata": {},
   "outputs": [],
   "source": [
    "def generateSamples(T,L,steps,samples,dirPath):\n",
    "    for i in range(1,samples+1):\n",
    "        mat = createArray(L)\n",
    "        simulate(mat,T,steps)\n",
    "        \n",
    "        if T<2.27:\n",
    "            category = \"low\"\n",
    "        else:\n",
    "            category = \"high\"\n",
    "        \n",
    "        path = os.path.join(dirPath,f\"{category}_{T:.2f}_{i}_\")\n",
    "        np.save(path,mat)"
   ]
  },
  {
   "cell_type": "code",
   "execution_count": 12,
   "metadata": {},
   "outputs": [],
   "source": [
    "def generateSamplesTri(T,L,steps,samples,dirPath):\n",
    "    for i in range(1,samples+1):\n",
    "        mat = createArray(L)\n",
    "        simulateTri(mat,T,steps)\n",
    "        \n",
    "        if T<3.65:\n",
    "            category = \"low\"\n",
    "        else:\n",
    "            category = \"high\"\n",
    "        \n",
    "        path = os.path.join(dirPath,f\"{category}_{T:.2f}_{i}_\")\n",
    "        np.save(path,mat)"
   ]
  },
  {
   "cell_type": "code",
   "execution_count": 13,
   "metadata": {},
   "outputs": [
    {
     "data": {
      "text/plain": [
       "<matplotlib.image.AxesImage at 0x7f577bc96278>"
      ]
     },
     "execution_count": 13,
     "metadata": {},
     "output_type": "execute_result"
    },
    {
     "data": {
      "image/png": "[encoded data removed]",
      "text/plain": [
       "<Figure size 432x288 with 1 Axes>"
      ]
     },
     "metadata": {
      "needs_background": "light"
     },
     "output_type": "display_data"
    }
   ],
   "source": [
    "mat=createArray(50)\n",
    "plt.imshow(mat)"
   ]
  },
  {
   "cell_type": "code",
   "execution_count": 14,
   "metadata": {},
   "outputs": [
    {
     "data": {
      "text/plain": [
       "<matplotlib.image.AxesImage at 0x7f577bc25208>"
      ]
     },
     "execution_count": 14,
     "metadata": {},
     "output_type": "execute_result"
    },
    {
     "data": {
      "image/png": "[encoded data removed]",
      "text/plain": [
       "<Figure size 432x288 with 1 Axes>"
      ]
     },
     "metadata": {
      "needs_background": "light"
     },
     "output_type": "display_data"
    }
   ],
   "source": [
    "simulateTri(mat,6.27,30)\n",
    "plt.imshow(mat)"
   ]
  },
  {
   "cell_type": "markdown",
   "metadata": {},
   "source": [
    "## Generate training and validation sets"
   ]
  },
  {
   "cell_type": "code",
   "execution_count": 37,
   "metadata": {},
   "outputs": [],
   "source": [
    "Temps = np.arange(1.5,2.5,0.1)"
   ]
  },
  {
   "cell_type": "code",
   "execution_count": 39,
   "metadata": {},
   "outputs": [],
   "source": [
    "Temps = np.arange(2.5,3.2,0.1)"
   ]
  },
  {
   "cell_type": "code",
   "execution_count": 41,
   "metadata": {},
   "outputs": [],
   "source": [
    "Temps = np.arange(1.5,3.2,0.1)"
   ]
  },
  {
   "cell_type": "code",
   "execution_count": 15,
   "metadata": {},
   "outputs": [],
   "source": [
    "Temps = np.arange(2.0,2.6,0.1)"
   ]
  },
  {
   "cell_type": "code",
   "execution_count": 16,
   "metadata": {},
   "outputs": [
    {
     "data": {
      "text/plain": [
       "array([2. , 2.1, 2.2, 2.3, 2.4, 2.5, 2.6])"
      ]
     },
     "execution_count": 16,
     "metadata": {},
     "output_type": "execute_result"
    }
   ],
   "source": [
    "Temps"
   ]
  },
  {
   "cell_type": "code",
   "execution_count": 18,
   "metadata": {},
   "outputs": [],
   "source": [
    "samples = 100\n",
    "L=20\n",
    "steps = 1000\n",
    "tester=zip(Temps,repeat(L),repeat(steps),repeat(samples),repeat(valid_data))\n",
    "p = mp.Pool(4)\n",
    "#p.map(run_one, Temps)\n",
    "p.starmap(generateSamples, tester)\n",
    "p.close()\n",
    "p.join()\n"
   ]
  },
  {
   "cell_type": "code",
   "execution_count": 72,
   "metadata": {},
   "outputs": [],
   "source": [
    "tri_test_data = '../../data/Ising/testTri/'"
   ]
  },
  {
   "cell_type": "code",
   "execution_count": 73,
   "metadata": {},
   "outputs": [],
   "source": [
    "Temps = np.arange(2.5,4.5,0.1)"
   ]
  },
  {
   "cell_type": "code",
   "execution_count": 74,
   "metadata": {},
   "outputs": [],
   "source": [
    "samples = 100\n",
    "L=20\n",
    "steps = 1000\n",
    "tester=zip(Temps,repeat(L),repeat(steps),repeat(samples),repeat(tri_test_data))\n",
    "p = mp.Pool(4)\n",
    "#p.map(run_one, Temps)\n",
    "p.starmap(generateSamplesTri, tester)\n",
    "p.close()\n",
    "p.join()"
   ]
  },
  {
   "cell_type": "code",
   "execution_count": 200,
   "metadata": {
    "collapsed": true
   },
   "outputs": [
    {
     "name": "stderr",
     "output_type": "stream",
     "text": [
      "\n",
      "  0%|          | 0/3 [00:00<?, ?it/s]\u001b[A\n",
      "100%|██████████| 3/3 [00:00<00:00, 68.16it/s]\u001b[A\n",
      "  0%|          | 0/3 [00:00<?, ?it/s]\u001b[A\n",
      "100%|██████████| 3/3 [00:00<00:00, 67.48it/s]\u001b[A\n",
      "  0%|          | 0/3 [00:00<?, ?it/s]\u001b[A\n",
      "100%|██████████| 3/3 [00:00<00:00, 72.77it/s]\u001b[A\n",
      "  0%|          | 0/3 [00:00<?, ?it/s]\u001b[A\n",
      "100%|██████████| 3/3 [00:00<00:00, 72.86it/s]\u001b[A\n",
      "  0%|          | 0/3 [00:00<?, ?it/s]\u001b[A\n",
      "100%|██████████| 3/3 [00:00<00:00, 73.05it/s]\u001b[A\n",
      "  0%|          | 0/3 [00:00<?, ?it/s]\u001b[A\n",
      "100%|██████████| 3/3 [00:00<00:00, 72.27it/s]\u001b[A\n",
      "  0%|          | 0/3 [00:00<?, ?it/s]\u001b[A\n",
      "100%|██████████| 3/3 [00:00<00:00, 72.96it/s]\u001b[A\n",
      "  0%|          | 0/3 [00:00<?, ?it/s]\u001b[A\n",
      "100%|██████████| 3/3 [00:00<00:00, 72.43it/s]\u001b[A\n",
      "  0%|          | 0/3 [00:00<?, ?it/s]\u001b[A\n",
      "100%|██████████| 3/3 [00:00<00:00, 72.45it/s]\u001b[A\n",
      "  0%|          | 0/3 [00:00<?, ?it/s]\u001b[A\n",
      "100%|██████████| 3/3 [00:00<00:00, 72.93it/s]\u001b[A\n",
      "  0%|          | 0/3 [00:00<?, ?it/s]\u001b[A\n",
      "100%|██████████| 3/3 [00:00<00:00, 72.70it/s]\u001b[A\n",
      "  0%|          | 0/3 [00:00<?, ?it/s]\u001b[A\n",
      "100%|██████████| 3/3 [00:00<00:00, 72.56it/s]\u001b[A\n",
      "  0%|          | 0/3 [00:00<?, ?it/s]\u001b[A\n",
      "100%|██████████| 3/3 [00:00<00:00, 72.79it/s]\u001b[A\n",
      "  0%|          | 0/3 [00:00<?, ?it/s]\u001b[A\n",
      "100%|██████████| 3/3 [00:00<00:00, 72.58it/s]\u001b[A\n",
      "  0%|          | 0/3 [00:00<?, ?it/s]\u001b[A\n",
      "100%|██████████| 3/3 [00:00<00:00, 73.11it/s]\u001b[A"
     ]
    }
   ],
   "source": [
    "samples = 3\n",
    "L=20\n",
    "steps = 3\n",
    "for T in Temps:\n",
    "    generateSamples(T,L,steps,samples,train_data)"
   ]
  },
  {
   "cell_type": "markdown",
   "metadata": {},
   "source": [
    "### Load and plot a generated sample"
   ]
  },
  {
   "cell_type": "code",
   "execution_count": 152,
   "metadata": {},
   "outputs": [],
   "source": [
    "data_files=os.listdir(train_data)"
   ]
  },
  {
   "cell_type": "code",
   "execution_count": 153,
   "metadata": {},
   "outputs": [
    {
     "data": {
      "text/plain": [
       "<matplotlib.image.AxesImage at 0x7f705a67d240>"
      ]
     },
     "execution_count": 153,
     "metadata": {},
     "output_type": "execute_result"
    },
    {
     "data": {
      "image/png": "[encoded data removed]",
      "text/plain": [
       "<Figure size 432x288 with 1 Axes>"
      ]
     },
     "metadata": {
      "needs_background": "light"
     },
     "output_type": "display_data"
    }
   ],
   "source": [
    "sampleMat=np.load(os.path.join(train_data,data_files[20]))\n",
    "plt.imshow(sampleMat)"
   ]
  },
  {
   "cell_type": "code",
   "execution_count": 46,
   "metadata": {},
   "outputs": [
    {
     "name": "stderr",
     "output_type": "stream",
     "text": [
      "100%|██████████| 1000/1000 [00:01<00:00, 656.79it/s]\n"
     ]
    }
   ],
   "source": [
    "mat=createArray(20)\n",
    "steps=1000\n",
    "avgE = np.zeros(steps)\n",
    "for step in tqdm(range(steps)):\n",
    "    avgE[step]=iterateWolff(mat,2.5,True)\n",
    "    #avgE[step]=iterate(mat,2.1,True)"
   ]
  },
  {
   "cell_type": "code",
   "execution_count": 47,
   "metadata": {},
   "outputs": [
    {
     "data": {
      "text/plain": [
       "<matplotlib.image.AxesImage at 0x7f025ec8e940>"
      ]
     },
     "execution_count": 47,
     "metadata": {},
     "output_type": "execute_result"
    },
    {
     "data": {
      "image/png": "[encoded data removed]",
      "text/plain": [
       "<Figure size 432x288 with 1 Axes>"
      ]
     },
     "metadata": {
      "needs_background": "light"
     },
     "output_type": "display_data"
    }
   ],
   "source": [
    "plt.imshow(mat)"
   ]
  },
  {
   "cell_type": "code",
   "execution_count": 48,
   "metadata": {},
   "outputs": [
    {
     "data": {
      "text/plain": [
       "[<matplotlib.lines.Line2D at 0x7f0230f159e8>]"
      ]
     },
     "execution_count": 48,
     "metadata": {},
     "output_type": "execute_result"
    },
    {
     "data": {
      "image/png": "[encoded data removed]",
      "text/plain": [
       "<Figure size 432x288 with 1 Axes>"
      ]
     },
     "metadata": {
      "needs_background": "light"
     },
     "output_type": "display_data"
    }
   ],
   "source": [
    "plt.plot(avgE)"
   ]
  },
  {
   "cell_type": "code",
   "execution_count": 72,
   "metadata": {
    "scrolled": true
   },
   "outputs": [
    {
     "data": {
      "text/plain": [
       "[<matplotlib.lines.Line2D at 0x7f528530e6a0>]"
      ]
     },
     "execution_count": 72,
     "metadata": {},
     "output_type": "execute_result"
    },
    {
     "data": {
      "image/png": "[encoded data removed]",
      "text/plain": [
       "<Figure size 432x288 with 1 Axes>"
      ]
     },
     "metadata": {
      "needs_background": "light"
     },
     "output_type": "display_data"
    }
   ],
   "source": [
    "plt.plot(avgE)"
   ]
  },
  {
   "cell_type": "markdown",
   "metadata": {},
   "source": [
    "## Calculate correlations"
   ]
  },
  {
   "cell_type": "code",
   "execution_count": 45,
   "metadata": {},
   "outputs": [
    {
     "data": {
      "text/plain": [
       "[<matplotlib.lines.Line2D at 0x7f025ecba588>]"
      ]
     },
     "execution_count": 45,
     "metadata": {},
     "output_type": "execute_result"
    },
    {
     "data": {
      "image/png": "[encoded data removed]",
      "text/plain": [
       "<Figure size 432x288 with 1 Axes>"
      ]
     },
     "metadata": {
      "needs_background": "light"
     },
     "output_type": "display_data"
    }
   ],
   "source": [
    "corr = np.zeros(int(100/2))\n",
    "for i in range(1,int(100/2)):\n",
    "    _,corr[i] = calcCorr(mat,100,i)\n",
    "\n",
    "corr_theory = np.fromfunction(lambda i : (i+1.0)**-0.25, shape=(50,),dtype=float)\n",
    "plt.plot(corr[1:],'o')\n",
    "plt.plot(corr_theory[1:],'o')"
   ]
  },
  {
   "cell_type": "code",
   "execution_count": null,
   "metadata": {},
   "outputs": [],
   "source": []
  }
 ],
 "metadata": {
  "kernelspec": {
   "display_name": "Python 3",
   "language": "python",
   "name": "python3"
  },
  "language_info": {
   "codemirror_mode": {
    "name": "ipython",
    "version": 3
   },
   "file_extension": ".py",
   "mimetype": "text/x-python",
   "name": "python",
   "nbconvert_exporter": "python",
   "pygments_lexer": "ipython3",
   "version": "3.6.7"
  }
 },
 "nbformat": 4,
 "nbformat_minor": 2
}
