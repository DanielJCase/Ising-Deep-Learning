{
 "cells": [
  {
   "cell_type": "markdown",
   "metadata": {},
   "source": [
    "# Ising Model -- Logistic Regression\n",
    "Here, I investigate how well a logistic regression model is able to classify simulation results of the 2-D Ising model into \"low\" and \"high\" temperature phases.\n",
    "\n",
    "For for information about the Ising model, see the README or the [wiki page][example].\n",
    "\n",
    "  [example]: https://en.wikipedia.org/wiki/Ising_model\n",
    "\n",
    "I first demonstrate image classification using logisitic regression on the MNIST dataset. Then, I apply logistic regression to my Ising model simulation data."
   ]
  },
  {
   "cell_type": "code",
   "execution_count": 131,
   "metadata": {},
   "outputs": [],
   "source": [
    "%matplotlib inline\n",
    "import numpy as np\n",
    "import os\n",
    "from random import shuffle\n",
    "from tqdm import tqdm\n",
    "import tensorflow as tf\n",
    "import matplotlib.pyplot as plt\n",
    "import pandas as pd\n",
    "from tensorflow import keras"
   ]
  },
  {
   "cell_type": "markdown",
   "metadata": {},
   "source": [
    "## Logistic Regression on MNIST"
   ]
  },
  {
   "cell_type": "markdown",
   "metadata": {},
   "source": [
    "### Load MNIST Data"
   ]
  },
  {
   "cell_type": "code",
   "execution_count": 133,
   "metadata": {},
   "outputs": [],
   "source": [
    "mnist = keras.datasets.mnist\n",
    "\n",
    "(train_images, train_labels), (test_images, test_labels) = mnist.load_data()\n",
    "\n",
    "train_images = train_images / 255.0\n",
    "test_images = test_images /255.0"
   ]
  },
  {
   "cell_type": "markdown",
   "metadata": {},
   "source": [
    "### Build logistic regression model\n",
    "Here I construct a neural net without hidden layers"
   ]
  },
  {
   "cell_type": "code",
   "execution_count": 138,
   "metadata": {},
   "outputs": [],
   "source": [
    "model2 = keras.Sequential([\n",
    "    keras.layers.Flatten(input_shape=(28, 28)),\n",
    "    keras.layers.Dense(10, activation=tf.nn.softmax)\n",
    "])"
   ]
  },
  {
   "cell_type": "code",
   "execution_count": 139,
   "metadata": {},
   "outputs": [],
   "source": [
    "model2.compile(optimizer=tf.train.AdamOptimizer(learning_rate=0.001), loss='sparse_categorical_crossentropy', metrics=['accuracy'])"
   ]
  },
  {
   "cell_type": "code",
   "execution_count": 140,
   "metadata": {},
   "outputs": [
    {
     "name": "stdout",
     "output_type": "stream",
     "text": [
      "Epoch 1/3\n",
      "60000/60000 [==============================] - 4s 68us/sample - loss: 0.4752 - acc: 0.8759\n",
      "Epoch 2/3\n",
      "60000/60000 [==============================] - 4s 64us/sample - loss: 0.3042 - acc: 0.9148\n",
      "Epoch 3/3\n",
      "60000/60000 [==============================] - 4s 64us/sample - loss: 0.2832 - acc: 0.9203\n"
     ]
    },
    {
     "data": {
      "text/plain": [
       "<tensorflow.python.keras.callbacks.History at 0x7f94b2349fd0>"
      ]
     },
     "execution_count": 140,
     "metadata": {},
     "output_type": "execute_result"
    }
   ],
   "source": [
    "model2.fit(train_images,train_labels, epochs=3)"
   ]
  },
  {
   "cell_type": "code",
   "execution_count": 141,
   "metadata": {},
   "outputs": [],
   "source": [
    "model2.compile(optimizer=tf.train.AdamOptimizer(learning_rate=0.0005), loss='sparse_categorical_crossentropy', metrics=['accuracy'])"
   ]
  },
  {
   "cell_type": "code",
   "execution_count": 142,
   "metadata": {},
   "outputs": [
    {
     "name": "stdout",
     "output_type": "stream",
     "text": [
      "Epoch 1/5\n",
      "60000/60000 [==============================] - 4s 68us/sample - loss: 0.2703 - acc: 0.9248\n",
      "Epoch 2/5\n",
      "60000/60000 [==============================] - 4s 64us/sample - loss: 0.2659 - acc: 0.9260\n",
      "Epoch 3/5\n",
      "60000/60000 [==============================] - 4s 65us/sample - loss: 0.2625 - acc: 0.9269\n",
      "Epoch 4/5\n",
      "60000/60000 [==============================] - 4s 65us/sample - loss: 0.2599 - acc: 0.9279\n",
      "Epoch 5/5\n",
      "60000/60000 [==============================] - 4s 64us/sample - loss: 0.2575 - acc: 0.9286\n"
     ]
    },
    {
     "data": {
      "text/plain": [
       "<tensorflow.python.keras.callbacks.History at 0x7f94b2047c50>"
      ]
     },
     "execution_count": 142,
     "metadata": {},
     "output_type": "execute_result"
    }
   ],
   "source": [
    "model2.fit(train_images,train_labels, epochs=5)"
   ]
  },
  {
   "cell_type": "code",
   "execution_count": 143,
   "metadata": {},
   "outputs": [
    {
     "name": "stdout",
     "output_type": "stream",
     "text": [
      "10000/10000 [==============================] - 1s 63us/sample - loss: 0.2630 - acc: 0.9273\n",
      "Test accuracy: 0.9273\n",
      "Test loss: 0.2629511542677879\n"
     ]
    }
   ],
   "source": [
    "test_loss, test_acc = model2.evaluate(test_images, test_labels,)\n",
    "print('Test accuracy:', test_acc)\n",
    "print('Test loss:', test_loss)"
   ]
  },
  {
   "cell_type": "markdown",
   "metadata": {},
   "source": [
    "Just with this simple logistic regression, we achieve about 93% accuracy on our test set for MNIST\n",
    "\n",
    "Now we try on the Ising model data"
   ]
  },
  {
   "cell_type": "markdown",
   "metadata": {},
   "source": [
    "## Logistic Regression on Ising Model"
   ]
  },
  {
   "cell_type": "markdown",
   "metadata": {},
   "source": [
    "### Load Data"
   ]
  },
  {
   "cell_type": "code",
   "execution_count": 144,
   "metadata": {},
   "outputs": [],
   "source": [
    "train_path = '../../data/Ising/train20v2/'\n",
    "valid_path = '../../data/Ising/valid20v2/'\n",
    "test_path = '../../data/Ising/testTri20v2/'"
   ]
  },
  {
   "cell_type": "markdown",
   "metadata": {},
   "source": [
    "Set up some helper functions to load and label the data.\n",
    "\n",
    "The file name for each simulation is in the form ```phase_Temp_index_.npy``` where ```phase``` is either \"high\" or \"low\" and is the label I am training with. I also keep track of the temperature of each of the simulations, which will allow me to determine the critical phase transition temperature. Finally, ```index``` simply provides a unique file name to each configuration."
   ]
  },
  {
   "cell_type": "code",
   "execution_count": 145,
   "metadata": {},
   "outputs": [],
   "source": [
    "def one_hot_label(img):\n",
    "    # img is the file name of a configuration\n",
    "    label,T,_,_ = img.split('_')\n",
    "    if label == 'low':\n",
    "        ohl = np.array([1,0])\n",
    "    elif label == 'high':\n",
    "        ohl = np.array([0,1])\n",
    "    return ohl,T\n",
    "def data_with_label(data_path,*args):\n",
    "    data = []\n",
    "    if args: # The args are a list if directories in the data path that separate the classes/categories\n",
    "        for category in args:\n",
    "            for i in tqdm(os.listdir(data_path + category)):\n",
    "                path = os.path.join(data_path, category,i)\n",
    "                img = np.load(path)\n",
    "                data.append([img.astype(dtype='float32'), one_hot_label(i)])\n",
    "        shuffle(data)\n",
    "        return data"
   ]
  },
  {
   "cell_type": "markdown",
   "metadata": {},
   "source": [
    "Load in the train and validation sets.\n",
    "\n",
    "Each element of the sets consists of a tuple of the form: (numpy array, \\[one hot label, temperature\\])"
   ]
  },
  {
   "cell_type": "code",
   "execution_count": 146,
   "metadata": {
    "scrolled": false
   },
   "outputs": [
    {
     "name": "stderr",
     "output_type": "stream",
     "text": [
      "100%|██████████| 14000/14000 [00:03<00:00, 3733.60it/s]\n",
      "100%|██████████| 16000/16000 [00:04<00:00, 3758.22it/s]\n",
      "100%|██████████| 2800/2800 [00:00<00:00, 3705.62it/s]\n",
      "100%|██████████| 3200/3200 [00:00<00:00, 3775.57it/s]\n"
     ]
    }
   ],
   "source": [
    "train_set=data_with_label(train_path,'low','high')\n",
    "valid_set=data_with_label(valid_path,'low','high')"
   ]
  },
  {
   "cell_type": "markdown",
   "metadata": {},
   "source": [
    "Separate the loaded data into arrays containing the image data, label data, and temperature data."
   ]
  },
  {
   "cell_type": "code",
   "execution_count": 147,
   "metadata": {},
   "outputs": [],
   "source": [
    "tr_img_data = np.array([i[0] for i in train_set])\n",
    "tr_lbl_data = np.array([i[1][0] for i in train_set])\n",
    "tr_Temp_data = np.array([i[1][1] for i in train_set])\n",
    "val_img_data = np.array([i[0] for i in valid_set])\n",
    "val_lbl_data = np.array([i[1][0] for i in valid_set])\n",
    "val_Temp_data = np.array([float(i[1][1]) for i in valid_set])"
   ]
  },
  {
   "cell_type": "markdown",
   "metadata": {},
   "source": [
    "Take a look at a few samples.\n",
    "\n",
    "The low temperature configurations tend to be predominately aligned in either the \"up\" (yellow) or \"down\" (purple) directions. This is expected since aligned spins is a lower energy state. For the high temperature configurations, clusters of aligned spins of various sizes form.  "
   ]
  },
  {
   "cell_type": "code",
   "execution_count": 148,
   "metadata": {
    "scrolled": false
   },
   "outputs": [
    {
     "data": {
      "image/png": "[encoded data removed]",
      "text/plain": [
       "<Figure size 720x720 with 16 Axes>"
      ]
     },
     "metadata": {},
     "output_type": "display_data"
    }
   ],
   "source": [
    "plt.figure(figsize=(10,10))\n",
    "for i in range(16):\n",
    "    #idx=bad_predictions[i]\n",
    "    plt.subplot(4,4,i+1)\n",
    "    plt.xticks([])\n",
    "    plt.yticks([])\n",
    "    plt.grid(False)\n",
    "    plt.imshow(tr_img_data[i])\n",
    "    if tr_lbl_data[i][0] == 1:\n",
    "        label = \"Low\"\n",
    "    elif tr_lbl_data[i][1] == 1:\n",
    "        label = \"High\"\n",
    "    plt.xlabel(f'{label}, {tr_Temp_data[i]}')"
   ]
  },
  {
   "cell_type": "markdown",
   "metadata": {},
   "source": [
    "### Build logistic regression model\n",
    "\n",
    "There are only 2 classes: \"Low temperature\" and \"High temperature\""
   ]
  },
  {
   "cell_type": "code",
   "execution_count": 149,
   "metadata": {},
   "outputs": [],
   "source": [
    "model3 = keras.Sequential([\n",
    "    keras.layers.Flatten(input_shape=(20, 20)),\n",
    "    keras.layers.Dense(2, activation=tf.nn.softmax)\n",
    "])"
   ]
  },
  {
   "cell_type": "code",
   "execution_count": 154,
   "metadata": {},
   "outputs": [],
   "source": [
    "model3.compile(optimizer=tf.train.AdamOptimizer(learning_rate=0.001), loss='binary_crossentropy', metrics=['accuracy'])"
   ]
  },
  {
   "cell_type": "code",
   "execution_count": 156,
   "metadata": {},
   "outputs": [
    {
     "name": "stdout",
     "output_type": "stream",
     "text": [
      "Epoch 1/15\n",
      "30000/30000 [==============================] - 2s 73us/sample - loss: 0.7046 - acc: 0.5156\n",
      "Epoch 2/15\n",
      "30000/30000 [==============================] - 2s 72us/sample - loss: 0.7039 - acc: 0.5171\n",
      "Epoch 3/15\n",
      "30000/30000 [==============================] - 2s 73us/sample - loss: 0.7045 - acc: 0.5201\n",
      "Epoch 4/15\n",
      "30000/30000 [==============================] - 2s 73us/sample - loss: 0.7045 - acc: 0.5155\n",
      "Epoch 5/15\n",
      "30000/30000 [==============================] - 2s 74us/sample - loss: 0.7051 - acc: 0.5258\n",
      "Epoch 6/15\n",
      "30000/30000 [==============================] - 2s 73us/sample - loss: 0.7076 - acc: 0.5212\n",
      "Epoch 7/15\n",
      "30000/30000 [==============================] - 2s 73us/sample - loss: 0.7053 - acc: 0.5156\n",
      "Epoch 8/15\n",
      "30000/30000 [==============================] - 2s 72us/sample - loss: 0.7031 - acc: 0.5200\n",
      "Epoch 9/15\n",
      "30000/30000 [==============================] - 2s 73us/sample - loss: 0.7056 - acc: 0.5221\n",
      "Epoch 10/15\n",
      "30000/30000 [==============================] - 2s 72us/sample - loss: 0.7040 - acc: 0.5150\n",
      "Epoch 11/15\n",
      "30000/30000 [==============================] - 2s 72us/sample - loss: 0.7047 - acc: 0.5155\n",
      "Epoch 12/15\n",
      "30000/30000 [==============================] - 2s 72us/sample - loss: 0.7038 - acc: 0.5205\n",
      "Epoch 13/15\n",
      "30000/30000 [==============================] - 2s 72us/sample - loss: 0.7047 - acc: 0.5147\n",
      "Epoch 14/15\n",
      "30000/30000 [==============================] - 2s 73us/sample - loss: 0.7071 - acc: 0.5237\n",
      "Epoch 15/15\n",
      "30000/30000 [==============================] - 2s 73us/sample - loss: 0.7055 - acc: 0.5235\n"
     ]
    },
    {
     "data": {
      "text/plain": [
       "<tensorflow.python.keras.callbacks.History at 0x7f95fcef0ba8>"
      ]
     },
     "execution_count": 156,
     "metadata": {},
     "output_type": "execute_result"
    }
   ],
   "source": [
    "model3.fit(x=tr_img_data,y=tr_lbl_data, epochs=15)\n"
   ]
  },
  {
   "cell_type": "markdown",
   "metadata": {},
   "source": [
    "#### Interestingly, we can not do much better than 50% accuracy on our training data!\n",
    "\n",
    "We can try adding just a single small hidden layer"
   ]
  },
  {
   "cell_type": "markdown",
   "metadata": {},
   "source": [
    "## Single hidden layer NN"
   ]
  },
  {
   "cell_type": "code",
   "execution_count": 157,
   "metadata": {},
   "outputs": [],
   "source": [
    "model1 = keras.Sequential([\n",
    "    keras.layers.Flatten(input_shape=(20, 20)),\n",
    "    keras.layers.Dense(10, activation=tf.nn.sigmoid),\n",
    "    keras.layers.Dense(2, activation=tf.nn.softmax)\n",
    "])"
   ]
  },
  {
   "cell_type": "code",
   "execution_count": 158,
   "metadata": {},
   "outputs": [],
   "source": [
    "model1.compile(optimizer=tf.train.AdamOptimizer(learning_rate=0.001), loss='binary_crossentropy', metrics=['accuracy'])"
   ]
  },
  {
   "cell_type": "code",
   "execution_count": 159,
   "metadata": {
    "scrolled": false
   },
   "outputs": [
    {
     "name": "stdout",
     "output_type": "stream",
     "text": [
      "Epoch 1/15\n",
      "30000/30000 [==============================] - 3s 91us/sample - loss: 0.6706 - acc: 0.6707\n",
      "Epoch 2/15\n",
      "30000/30000 [==============================] - 2s 78us/sample - loss: 0.4312 - acc: 0.9131\n",
      "Epoch 3/15\n",
      "30000/30000 [==============================] - 2s 79us/sample - loss: 0.2667 - acc: 0.9236\n",
      "Epoch 4/15\n",
      "30000/30000 [==============================] - 2s 78us/sample - loss: 0.2047 - acc: 0.9319\n",
      "Epoch 5/15\n",
      "30000/30000 [==============================] - 2s 79us/sample - loss: 0.1774 - acc: 0.9370\n",
      "Epoch 6/15\n",
      "30000/30000 [==============================] - 2s 79us/sample - loss: 0.1648 - acc: 0.9397\n",
      "Epoch 7/15\n",
      "30000/30000 [==============================] - 2s 79us/sample - loss: 0.1547 - acc: 0.9430\n",
      "Epoch 8/15\n",
      "30000/30000 [==============================] - 2s 79us/sample - loss: 0.1477 - acc: 0.9445\n",
      "Epoch 9/15\n",
      "30000/30000 [==============================] - 2s 79us/sample - loss: 0.1419 - acc: 0.9465\n",
      "Epoch 10/15\n",
      "30000/30000 [==============================] - 2s 78us/sample - loss: 0.1384 - acc: 0.9472\n",
      "Epoch 11/15\n",
      "30000/30000 [==============================] - 2s 79us/sample - loss: 0.1334 - acc: 0.9489\n",
      "Epoch 12/15\n",
      "30000/30000 [==============================] - 2s 79us/sample - loss: 0.1310 - acc: 0.9496\n",
      "Epoch 13/15\n",
      "30000/30000 [==============================] - 2s 79us/sample - loss: 0.1256 - acc: 0.9508\n",
      "Epoch 14/15\n",
      "30000/30000 [==============================] - 2s 79us/sample - loss: 0.1241 - acc: 0.9520\n",
      "Epoch 15/15\n",
      "30000/30000 [==============================] - 2s 78us/sample - loss: 0.1213 - acc: 0.9524\n"
     ]
    },
    {
     "data": {
      "text/plain": [
       "<tensorflow.python.keras.callbacks.History at 0x7f95fce92c88>"
      ]
     },
     "execution_count": 159,
     "metadata": {},
     "output_type": "execute_result"
    }
   ],
   "source": [
    "model1.fit(x=tr_img_data,y=tr_lbl_data, epochs=15)"
   ]
  },
  {
   "cell_type": "markdown",
   "metadata": {},
   "source": [
    "Evaluate the model performance on the validation set."
   ]
  },
  {
   "cell_type": "code",
   "execution_count": 160,
   "metadata": {},
   "outputs": [
    {
     "name": "stdout",
     "output_type": "stream",
     "text": [
      "6000/6000 [==============================] - 1s 92us/sample - loss: 0.1696 - acc: 0.9360\n",
      "Validation accuracy: 0.936\n",
      "Validation loss: 0.16958255623281002\n"
     ]
    }
   ],
   "source": [
    "val_loss, val_acc = model1.evaluate(val_img_data, val_lbl_data,)\n",
    "print('Validation accuracy:', val_acc)\n",
    "print('Validation loss:', val_loss)"
   ]
  },
  {
   "cell_type": "markdown",
   "metadata": {},
   "source": [
    "#### By only adding a single hidden layer with 10 nodes we achieve 93%+ accuracy on the validation set! Much imporoved over the logistic regression!"
   ]
  }
 ],
 "metadata": {
  "kernelspec": {
   "display_name": "Python 3",
   "language": "python",
   "name": "python3"
  },
  "language_info": {
   "codemirror_mode": {
    "name": "ipython",
    "version": 3
   },
   "file_extension": ".py",
   "mimetype": "text/x-python",
   "name": "python",
   "nbconvert_exporter": "python",
   "pygments_lexer": "ipython3",
   "version": "3.6.8"
  }
 },
 "nbformat": 4,
 "nbformat_minor": 2
}
