{
 "cells": [
  {
   "cell_type": "code",
   "execution_count": 1,
   "metadata": {},
   "outputs": [],
   "source": [
    "import numpy as np\n",
    "import matplotlib.pyplot as plt\n",
    "from tqdm import tqdm\n",
    "%matplotlib inline"
   ]
  },
  {
   "cell_type": "code",
   "execution_count": null,
   "metadata": {},
   "outputs": [],
   "source": [
    "#Convention\n",
    "# 1 -> spin up\n",
    "# -1 -> spin down"
   ]
  },
  {
   "cell_type": "code",
   "execution_count": 2,
   "metadata": {},
   "outputs": [],
   "source": [
    "#Initialize array\n",
    "def createArray(N,p):\n",
    "    #Create a square array of size N+2 (the extra row/column are ghosts for periodic BC)\n",
    "    mat = np.zeros((N+2,N+2), dtype=int)\n",
    "    mat[1:N+1,1:N+1] = np.random.randint(0,high=2,size=(N,N))\n",
    "    \n",
    "    #set the BC ghosts\n",
    "    mat[:,0] = mat[:,N]\n",
    "    mat[:,N+1] = mat[:,1]\n",
    "    \n",
    "    mat[0,:] = mat[N,:]\n",
    "    mat[N+1,:] = mat[1,:]\n",
    "    \n",
    "    mat[mat==0] = -1\n",
    "    \n",
    "    return mat"
   ]
  },
  {
   "cell_type": "code",
   "execution_count": 138,
   "metadata": {},
   "outputs": [],
   "source": [
    "#Iterate function\n",
    "def iterate(mat,T,calcE):\n",
    "    n,_ = mat.shape\n",
    "    N = n-2\n",
    "    \n",
    "    order1 = np.arange(1,N+1)\n",
    "    order2 = np.arange(1,N+1)\n",
    "    np.random.shuffle(order1)\n",
    "    np.random.shuffle(order2)\n",
    "    #updateMat=np.copy(mat)\n",
    "    updateMat=mat\n",
    "    avgE = 0.0\n",
    "    for i in order1:\n",
    "        for j in order2:\n",
    "            spin_current = mat[i,j]\n",
    "            spin_potential = spin_current*(-1)\n",
    "            E_current = -spin_current*(mat[i+1,j]+mat[i-1,j]+mat[i,j+1]+mat[i,j-1])\n",
    "            E_potential = -spin_potential*(mat[i+1,j]+mat[i-1,j]+mat[i,j+1]+mat[i,j-1])\n",
    "            E_diff = E_potential - E_current\n",
    "            if E_diff < 0:\n",
    "                updateMat[i,j] = spin_potential\n",
    "                #avgE+=float(E_potential)\n",
    "            elif np.random.random()<= np.exp(-float(E_diff)/T):\n",
    "                updateMat[i,j] = spin_potential\n",
    "                #avgE+=float(E_potential)\n",
    "            #else:\n",
    "                #avgE+=float(E_current)\n",
    "            updateMat[:,0] = updateMat[:,N]\n",
    "            updateMat[:,N+1] = updateMat[:,1]\n",
    "    \n",
    "            updateMat[0,:] = updateMat[N,:]\n",
    "            updateMat[N+1,:] = updateMat[1,:]\n",
    "\n",
    "    if calcE:        \n",
    "        for i in order1:\n",
    "            for j in range(1,N+1):\n",
    "                spin_final = mat[i,j]\n",
    "                E_final = -spin_final*(mat[i+1,j]+mat[i-1,j]+mat[i,j+1]+mat[i,j-1])\n",
    "                avgE+=float(E_final)\n",
    "    \n",
    "        avgE/=float(N**2)                   \n",
    "        return updateMat, avgE\n",
    "    else:\n",
    "        return updateMat\n",
    "            "
   ]
  },
  {
   "cell_type": "code",
   "execution_count": 144,
   "metadata": {},
   "outputs": [],
   "source": [
    "def simulate(mat,T,steps):\n",
    "    #Runs MC for number of steps\n",
    "    calcE=False\n",
    "    for step in range(steps):\n",
    "        mat = iterate(mat,1.2,calcE)\n",
    "    \n",
    "    #return mat"
   ]
  },
  {
   "cell_type": "code",
   "execution_count": 145,
   "metadata": {},
   "outputs": [],
   "source": [
    "mat=createArray(50,1)"
   ]
  },
  {
   "cell_type": "code",
   "execution_count": 146,
   "metadata": {},
   "outputs": [],
   "source": [
    "simulate(mat,2.1,100)"
   ]
  },
  {
   "cell_type": "code",
   "execution_count": 149,
   "metadata": {},
   "outputs": [],
   "source": [
    "Temps = np.arange(1.5,3.0,0.1)"
   ]
  },
  {
   "cell_type": "code",
   "execution_count": null,
   "metadata": {},
   "outputs": [],
   "source": []
  },
  {
   "cell_type": "code",
   "execution_count": null,
   "metadata": {},
   "outputs": [],
   "source": []
  },
  {
   "cell_type": "code",
   "execution_count": null,
   "metadata": {},
   "outputs": [],
   "source": [
    "np.save()"
   ]
  },
  {
   "cell_type": "code",
   "execution_count": 26,
   "metadata": {},
   "outputs": [
    {
     "data": {
      "text/plain": [
       "(array([[-1, -1,  1, ..., -1, -1, -1],\n",
       "        [-1, -1,  1, ...,  1, -1, -1],\n",
       "        [-1,  1,  1, ..., -1, -1,  1],\n",
       "        ...,\n",
       "        [-1, -1,  1, ...,  1, -1, -1],\n",
       "        [-1, -1,  1, ..., -1, -1, -1],\n",
       "        [-1, -1,  1, ...,  1, -1, -1]]), -1.5616)"
      ]
     },
     "execution_count": 26,
     "metadata": {},
     "output_type": "execute_result"
    }
   ],
   "source": [
    "mat=iterate(mat,0.0000001)\n",
    "mat"
   ]
  },
  {
   "cell_type": "code",
   "execution_count": 134,
   "metadata": {},
   "outputs": [
    {
     "name": "stderr",
     "output_type": "stream",
     "text": [
      "100%|██████████| 500/500 [00:15<00:00, 32.03it/s]\n"
     ]
    }
   ],
   "source": [
    "steps=500\n",
    "avgE = np.zeros(steps)\n",
    "for step in tqdm(range(steps)):\n",
    "    mat,avgE[step]=iterate(mat,1.2)    "
   ]
  },
  {
   "cell_type": "code",
   "execution_count": 147,
   "metadata": {},
   "outputs": [
    {
     "data": {
      "text/plain": [
       "<matplotlib.image.AxesImage at 0x7f5284578ef0>"
      ]
     },
     "execution_count": 147,
     "metadata": {},
     "output_type": "execute_result"
    },
    {
     "data": {
      "image/png": "[encoded data removed]",
      "text/plain": [
       "<Figure size 432x288 with 1 Axes>"
      ]
     },
     "metadata": {
      "needs_background": "light"
     },
     "output_type": "display_data"
    }
   ],
   "source": [
    "plt.imshow(mat[1:-2,1:-2])"
   ]
  },
  {
   "cell_type": "code",
   "execution_count": 148,
   "metadata": {},
   "outputs": [
    {
     "data": {
      "text/plain": [
       "[<matplotlib.lines.Line2D at 0x7f528454add8>]"
      ]
     },
     "execution_count": 148,
     "metadata": {},
     "output_type": "execute_result"
    },
    {
     "data": {
      "image/png": "[encoded data removed]",
      "text/plain": [
       "<Figure size 432x288 with 1 Axes>"
      ]
     },
     "metadata": {
      "needs_background": "light"
     },
     "output_type": "display_data"
    }
   ],
   "source": [
    "plt.plot(avgE)"
   ]
  },
  {
   "cell_type": "code",
   "execution_count": 72,
   "metadata": {},
   "outputs": [
    {
     "data": {
      "text/plain": [
       "[<matplotlib.lines.Line2D at 0x7f528530e6a0>]"
      ]
     },
     "execution_count": 72,
     "metadata": {},
     "output_type": "execute_result"
    },
    {
     "data": {
      "image/png": "[encoded data removed]",
      "text/plain": [
       "<Figure size 432x288 with 1 Axes>"
      ]
     },
     "metadata": {
      "needs_background": "light"
     },
     "output_type": "display_data"
    }
   ],
   "source": [
    "plt.plot(avgE)"
   ]
  },
  {
   "cell_type": "code",
   "execution_count": null,
   "metadata": {},
   "outputs": [],
   "source": []
  },
  {
   "cell_type": "code",
   "execution_count": 264,
   "metadata": {},
   "outputs": [],
   "source": [
    "np.random.shuffle(np.array([1,2,3]))"
   ]
  },
  {
   "cell_type": "code",
   "execution_count": 272,
   "metadata": {},
   "outputs": [
    {
     "data": {
      "text/plain": [
       "array([0, 1, 2, 3, 4, 5, 6, 7, 8, 9])"
      ]
     },
     "execution_count": 272,
     "metadata": {},
     "output_type": "execute_result"
    }
   ],
   "source": [
    "np.arange(10)"
   ]
  },
  {
   "cell_type": "code",
   "execution_count": null,
   "metadata": {},
   "outputs": [],
   "source": [
    "# To save data: <class>_<Temp>"
   ]
  }
 ],
 "metadata": {
  "kernelspec": {
   "display_name": "Python 3",
   "language": "python",
   "name": "python3"
  },
  "language_info": {
   "codemirror_mode": {
    "name": "ipython",
    "version": 3
   },
   "file_extension": ".py",
   "mimetype": "text/x-python",
   "name": "python",
   "nbconvert_exporter": "python",
   "pygments_lexer": "ipython3",
   "version": "3.6.7"
  }
 },
 "nbformat": 4,
 "nbformat_minor": 2
}
